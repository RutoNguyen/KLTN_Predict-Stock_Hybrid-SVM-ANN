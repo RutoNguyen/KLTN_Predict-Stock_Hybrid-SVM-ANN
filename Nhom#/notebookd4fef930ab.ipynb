{
 "cells": [
  {
   "cell_type": "markdown",
   "metadata": {
    "id": "oKjbh8AZ9b0_",
    "papermill": {
     "duration": 0.103378,
     "end_time": "2021-11-23T16:48:58.066198",
     "exception": false,
     "start_time": "2021-11-23T16:48:57.96282",
     "status": "completed"
    },
    "tags": []
   },
   "source": [
    "## Install pyspark"
   ]
  },
  {
   "cell_type": "code",
   "execution_count": null,
   "metadata": {
    "execution": {
     "iopub.execute_input": "2021-12-14T13:59:48.207858Z",
     "iopub.status.busy": "2021-12-14T13:59:48.207463Z",
     "iopub.status.idle": "2021-12-14T14:00:55.387537Z",
     "shell.execute_reply": "2021-12-14T14:00:55.386489Z",
     "shell.execute_reply.started": "2021-12-14T13:59:48.207751Z"
    }
   },
   "outputs": [],
   "source": [
    "!pip install pyspellchecker\n",
    "!pip install pyspark\n",
    "!pip install openpyxl\n",
    "import warnings\n",
    "warnings.filterwarnings(\"ignore\")"
   ]
  },
  {
   "cell_type": "code",
   "execution_count": null,
   "metadata": {
    "execution": {
     "iopub.execute_input": "2021-12-14T14:00:55.391462Z",
     "iopub.status.busy": "2021-12-14T14:00:55.390745Z",
     "iopub.status.idle": "2021-12-14T14:01:02.79572Z",
     "shell.execute_reply": "2021-12-14T14:01:02.794761Z",
     "shell.execute_reply.started": "2021-12-14T14:00:55.391409Z"
    },
    "id": "6QxFjGeEoxVq",
    "papermill": {
     "duration": 5.946276,
     "end_time": "2021-11-23T16:49:44.452797",
     "exception": false,
     "start_time": "2021-11-23T16:49:38.506521",
     "status": "completed"
    },
    "tags": []
   },
   "outputs": [],
   "source": [
    "from pyspark.sql import SparkSession\n",
    "spark = SparkSession.builder.master(\"local[*]\").getOrCreate()"
   ]
  },
  {
   "cell_type": "code",
   "execution_count": null,
   "metadata": {
    "execution": {
     "iopub.execute_input": "2021-12-14T14:01:02.802918Z",
     "iopub.status.busy": "2021-12-14T14:01:02.800809Z",
     "iopub.status.idle": "2021-12-14T14:01:02.820881Z",
     "shell.execute_reply": "2021-12-14T14:01:02.820249Z",
     "shell.execute_reply.started": "2021-12-14T14:01:02.802871Z"
    }
   },
   "outputs": [],
   "source": [
    "from pyspark import SparkContext, SparkConf\n",
    "conf = SparkConf()\n",
    "conf.set('spark.sql.autoBroadcastJoinThreshold',-1)"
   ]
  },
  {
   "cell_type": "markdown",
   "metadata": {
    "id": "AuZl7xc4-YIy",
    "papermill": {
     "duration": 0.120906,
     "end_time": "2021-11-23T16:49:44.699316",
     "exception": false,
     "start_time": "2021-11-23T16:49:44.57841",
     "status": "completed"
    },
    "tags": []
   },
   "source": [
    "## Import dataset"
   ]
  },
  {
   "cell_type": "code",
   "execution_count": null,
   "metadata": {
    "execution": {
     "iopub.execute_input": "2021-12-14T14:01:02.826629Z",
     "iopub.status.busy": "2021-12-14T14:01:02.824623Z",
     "iopub.status.idle": "2021-12-14T14:01:03.710933Z",
     "shell.execute_reply": "2021-12-14T14:01:03.710182Z",
     "shell.execute_reply.started": "2021-12-14T14:01:02.826582Z"
    },
    "id": "1tQE_SE3tESe",
    "papermill": {
     "duration": 1.118384,
     "end_time": "2021-11-23T16:49:45.938496",
     "exception": false,
     "start_time": "2021-11-23T16:49:44.820112",
     "status": "completed"
    },
    "tags": []
   },
   "outputs": [],
   "source": [
    "import pandas as pd\n",
    "import numpy as np\n",
    "import matplotlib.pyplot as plt\n",
    "import seaborn as sns"
   ]
  },
  {
   "cell_type": "code",
   "execution_count": null,
   "metadata": {
    "execution": {
     "iopub.execute_input": "2021-12-14T14:01:03.71373Z",
     "iopub.status.busy": "2021-12-14T14:01:03.713464Z",
     "iopub.status.idle": "2021-12-14T14:01:06.332595Z",
     "shell.execute_reply": "2021-12-14T14:01:06.331842Z",
     "shell.execute_reply.started": "2021-12-14T14:01:03.713686Z"
    },
    "id": "BGzqga3otEhS",
    "papermill": {
     "duration": 2.782233,
     "end_time": "2021-11-23T16:49:58.371065",
     "exception": false,
     "start_time": "2021-11-23T16:49:55.588832",
     "status": "completed"
    },
    "tags": []
   },
   "outputs": [],
   "source": [
    "df = pd.read_excel('/kaggle/input/flight-fare-prediction-mh/Data_Train.xlsx')"
   ]
  },
  {
   "cell_type": "code",
   "execution_count": null,
   "metadata": {
    "execution": {
     "iopub.execute_input": "2021-12-14T14:01:06.334544Z",
     "iopub.status.busy": "2021-12-14T14:01:06.33429Z",
     "iopub.status.idle": "2021-12-14T14:01:09.356745Z",
     "shell.execute_reply": "2021-12-14T14:01:09.355795Z",
     "shell.execute_reply.started": "2021-12-14T14:01:06.334507Z"
    },
    "id": "ZE8YMUDwtElc",
    "papermill": {
     "duration": 4.03813,
     "end_time": "2021-11-23T16:50:02.537136",
     "exception": false,
     "start_time": "2021-11-23T16:49:58.499006",
     "status": "completed"
    },
    "tags": []
   },
   "outputs": [],
   "source": [
    "from pyspark.sql.types import *\n",
    "df_schema = StructType([StructField('Airline', StringType(), True),StructField('Date_of_Journey', StringType(), True),\n",
    "                       StructField('Source', StringType(), True), StructField('Destination', StringType(), True),\n",
    "                       StructField('Route', StringType(), True),StructField('Dep_Time', StringType(), True),\n",
    "                       StructField('Arrival_Time', StringType(), True),StructField('Duration', StringType(), True),\n",
    "                       StructField('Total_Stops', StringType(), True),StructField('Additional_Info', StringType(), True),\n",
    "                       StructField('Price', IntegerType(), True)])\n",
    "data = spark.createDataFrame(df,schema=df_schema)"
   ]
  },
  {
   "cell_type": "code",
   "execution_count": null,
   "metadata": {
    "execution": {
     "iopub.execute_input": "2021-12-14T14:01:09.358301Z",
     "iopub.status.busy": "2021-12-14T14:01:09.358001Z",
     "iopub.status.idle": "2021-12-14T14:01:09.399611Z",
     "shell.execute_reply": "2021-12-14T14:01:09.398869Z",
     "shell.execute_reply.started": "2021-12-14T14:01:09.358262Z"
    },
    "id": "E4alCrsatEpH",
    "outputId": "471498ac-8c74-4638-b1a5-f51715232dd8",
    "papermill": {
     "duration": 0.170991,
     "end_time": "2021-11-23T16:50:02.835265",
     "exception": false,
     "start_time": "2021-11-23T16:50:02.664274",
     "status": "completed"
    },
    "tags": []
   },
   "outputs": [],
   "source": [
    "data.printSchema()"
   ]
  },
  {
   "cell_type": "code",
   "execution_count": null,
   "metadata": {
    "execution": {
     "iopub.execute_input": "2021-12-14T14:01:09.400873Z",
     "iopub.status.busy": "2021-12-14T14:01:09.4006Z",
     "iopub.status.idle": "2021-12-14T14:01:09.406889Z",
     "shell.execute_reply": "2021-12-14T14:01:09.405784Z",
     "shell.execute_reply.started": "2021-12-14T14:01:09.400818Z"
    },
    "id": "cbqbU-5MtEr4",
    "outputId": "1f44241a-ee30-49f8-d2ac-96b7f45294dc",
    "papermill": {
     "duration": 0.204518,
     "end_time": "2021-11-23T16:50:03.189285",
     "exception": false,
     "start_time": "2021-11-23T16:50:02.984767",
     "status": "completed"
    },
    "tags": []
   },
   "outputs": [],
   "source": [
    "type(data)"
   ]
  },
  {
   "cell_type": "code",
   "execution_count": null,
   "metadata": {
    "execution": {
     "iopub.execute_input": "2021-12-14T14:01:09.408988Z",
     "iopub.status.busy": "2021-12-14T14:01:09.408267Z",
     "iopub.status.idle": "2021-12-14T14:01:13.000576Z",
     "shell.execute_reply": "2021-12-14T14:01:12.99989Z",
     "shell.execute_reply.started": "2021-12-14T14:01:09.408898Z"
    },
    "id": "jXOsGwO2tEu7",
    "outputId": "833e360f-2618-40c9-9b31-aa13c8198033",
    "papermill": {
     "duration": 4.138674,
     "end_time": "2021-11-23T16:50:07.471949",
     "exception": false,
     "start_time": "2021-11-23T16:50:03.333275",
     "status": "completed"
    },
    "tags": []
   },
   "outputs": [],
   "source": [
    "#data.show()\n",
    "data.toPandas()"
   ]
  },
  {
   "cell_type": "markdown",
   "metadata": {
    "id": "ttbClDVH-tqM",
    "papermill": {
     "duration": 0.13575,
     "end_time": "2021-11-23T16:50:07.768266",
     "exception": false,
     "start_time": "2021-11-23T16:50:07.632516",
     "status": "completed"
    },
    "tags": []
   },
   "source": [
    "#### Check null values and remove them"
   ]
  },
  {
   "cell_type": "code",
   "execution_count": null,
   "metadata": {
    "execution": {
     "iopub.execute_input": "2021-12-14T14:01:13.002691Z",
     "iopub.status.busy": "2021-12-14T14:01:13.001928Z",
     "iopub.status.idle": "2021-12-14T14:01:13.010487Z",
     "shell.execute_reply": "2021-12-14T14:01:13.009727Z",
     "shell.execute_reply.started": "2021-12-14T14:01:13.002651Z"
    },
    "id": "lep_3LpjtExh",
    "papermill": {
     "duration": 0.202226,
     "end_time": "2021-11-23T16:50:08.112675",
     "exception": false,
     "start_time": "2021-11-23T16:50:07.910449",
     "status": "completed"
    },
    "tags": []
   },
   "outputs": [],
   "source": [
    "from pyspark.sql.functions import col,isnan, when, count"
   ]
  },
  {
   "cell_type": "code",
   "execution_count": null,
   "metadata": {
    "execution": {
     "iopub.execute_input": "2021-12-14T14:01:13.012418Z",
     "iopub.status.busy": "2021-12-14T14:01:13.012092Z",
     "iopub.status.idle": "2021-12-14T14:01:15.761686Z",
     "shell.execute_reply": "2021-12-14T14:01:15.761027Z",
     "shell.execute_reply.started": "2021-12-14T14:01:13.01238Z"
    },
    "id": "w17WvUT3tE0Y",
    "outputId": "759af17d-0bbf-467e-b19c-c041486466c4",
    "papermill": {
     "duration": 2.984401,
     "end_time": "2021-11-23T16:50:11.23342",
     "exception": false,
     "start_time": "2021-11-23T16:50:08.249019",
     "status": "completed"
    },
    "tags": []
   },
   "outputs": [],
   "source": [
    "# data.select([count(when((col(c) == '') |isnan(c) | col(c).isNull(), c)).alias(c) for c in data.columns]).show()\n",
    "data.select([count(when((col(c) == '') |isnan(c) | col(c).isNull(), c)).alias(c) for c in data.columns]).toPandas()"
   ]
  },
  {
   "cell_type": "code",
   "execution_count": null,
   "metadata": {
    "execution": {
     "iopub.execute_input": "2021-12-14T14:01:15.767383Z",
     "iopub.status.busy": "2021-12-14T14:01:15.765506Z",
     "iopub.status.idle": "2021-12-14T14:01:16.16914Z",
     "shell.execute_reply": "2021-12-14T14:01:16.168257Z",
     "shell.execute_reply.started": "2021-12-14T14:01:15.767346Z"
    },
    "id": "sOlS3aortE3Z",
    "outputId": "5059991b-f194-494f-b48e-9a1d7fe50ed6",
    "papermill": {
     "duration": 0.557129,
     "end_time": "2021-11-23T16:50:11.922529",
     "exception": false,
     "start_time": "2021-11-23T16:50:11.3654",
     "status": "completed"
    },
    "tags": []
   },
   "outputs": [],
   "source": [
    "# data.filter(\"Route == 'NaN'\").show()\n",
    "data.filter(\"Route == 'NaN'\").toPandas()"
   ]
  },
  {
   "cell_type": "code",
   "execution_count": null,
   "metadata": {
    "execution": {
     "iopub.execute_input": "2021-12-14T14:01:16.175892Z",
     "iopub.status.busy": "2021-12-14T14:01:16.173579Z",
     "iopub.status.idle": "2021-12-14T14:01:17.157006Z",
     "shell.execute_reply": "2021-12-14T14:01:17.156181Z",
     "shell.execute_reply.started": "2021-12-14T14:01:16.175846Z"
    },
    "id": "7jtP_sqmtE51",
    "outputId": "f49a8ef1-c7bf-4038-bcd1-ac9f9d0fb3c5",
    "papermill": {
     "duration": 0.396827,
     "end_time": "2021-11-23T16:50:12.448443",
     "exception": false,
     "start_time": "2021-11-23T16:50:12.051616",
     "status": "completed"
    },
    "tags": []
   },
   "outputs": [],
   "source": [
    "df = data.where(data.Route != 'NaN').where(data.Total_Stops !='NaN')\n",
    "# df.show()\n",
    "df.toPandas()"
   ]
  },
  {
   "cell_type": "code",
   "execution_count": null,
   "metadata": {
    "execution": {
     "iopub.execute_input": "2021-12-14T14:01:17.166875Z",
     "iopub.status.busy": "2021-12-14T14:01:17.164575Z",
     "iopub.status.idle": "2021-12-14T14:01:17.613336Z",
     "shell.execute_reply": "2021-12-14T14:01:17.612413Z",
     "shell.execute_reply.started": "2021-12-14T14:01:17.166803Z"
    },
    "id": "AWmYteyUtE8f",
    "outputId": "2fa83157-8eed-4b82-c581-68bbc38c134c",
    "papermill": {
     "duration": 0.490918,
     "end_time": "2021-11-23T16:50:13.068518",
     "exception": false,
     "start_time": "2021-11-23T16:50:12.5776",
     "status": "completed"
    },
    "tags": []
   },
   "outputs": [],
   "source": [
    "df.count()"
   ]
  },
  {
   "cell_type": "code",
   "execution_count": null,
   "metadata": {
    "execution": {
     "iopub.execute_input": "2021-12-14T14:01:17.615775Z",
     "iopub.status.busy": "2021-12-14T14:01:17.615575Z",
     "iopub.status.idle": "2021-12-14T14:01:19.028276Z",
     "shell.execute_reply": "2021-12-14T14:01:19.027612Z",
     "shell.execute_reply.started": "2021-12-14T14:01:17.615751Z"
    },
    "id": "n9BB_VK2tE_G",
    "outputId": "d7389813-4914-4df4-c2d0-af3a03636a50",
    "papermill": {
     "duration": 1.40957,
     "end_time": "2021-11-23T16:50:14.605909",
     "exception": false,
     "start_time": "2021-11-23T16:50:13.196339",
     "status": "completed"
    },
    "tags": []
   },
   "outputs": [],
   "source": [
    "# df.select([count(when((col(c) == '') |isnan(c) | col(c).isNull(), c)).alias(c) for c in df.columns]).show()\n",
    "df.select([count(when((col(c) == '') |isnan(c) | col(c).isNull(), c)).alias(c) for c in df.columns]).toPandas()"
   ]
  },
  {
   "cell_type": "code",
   "execution_count": null,
   "metadata": {
    "execution": {
     "iopub.execute_input": "2021-12-14T14:01:19.03401Z",
     "iopub.status.busy": "2021-12-14T14:01:19.031847Z",
     "iopub.status.idle": "2021-12-14T14:01:19.041789Z",
     "shell.execute_reply": "2021-12-14T14:01:19.041131Z",
     "shell.execute_reply.started": "2021-12-14T14:01:19.033969Z"
    },
    "id": "9r1ze98gtFEk",
    "papermill": {
     "duration": 0.155991,
     "end_time": "2021-11-23T16:50:15.725698",
     "exception": false,
     "start_time": "2021-11-23T16:50:15.569707",
     "status": "completed"
    },
    "tags": []
   },
   "outputs": [],
   "source": [
    "from pyspark.sql.functions import *\n",
    "from datetime import datetime\n",
    "import pyspark.sql.functions as sqlFunc\n",
    "import pyspark.sql.types as types\n",
    "from pyspark.sql import functions as F\n",
    "from pyspark.sql.functions import to_timestamp"
   ]
  },
  {
   "cell_type": "markdown",
   "metadata": {},
   "source": [
    "## Handle Number Data"
   ]
  },
  {
   "cell_type": "markdown",
   "metadata": {
    "id": "hpwch6KqzZzw",
    "papermill": {
     "duration": 0.14181,
     "end_time": "2021-11-23T16:50:16.006998",
     "exception": false,
     "start_time": "2021-11-23T16:50:15.865188",
     "status": "completed"
    },
    "tags": []
   },
   "source": [
    "#### Handle Dep_Time column\n",
    "\n",
    "\n",
    "\n",
    "\n",
    "\n",
    "\n"
   ]
  },
  {
   "cell_type": "code",
   "execution_count": null,
   "metadata": {
    "execution": {
     "iopub.execute_input": "2021-12-14T14:01:19.049264Z",
     "iopub.status.busy": "2021-12-14T14:01:19.046586Z",
     "iopub.status.idle": "2021-12-14T14:01:19.099297Z",
     "shell.execute_reply": "2021-12-14T14:01:19.098516Z",
     "shell.execute_reply.started": "2021-12-14T14:01:19.049226Z"
    },
    "id": "7iRc_BVntFKm",
    "outputId": "c9f6c63f-05ed-463e-8fa4-5ce2f87e0aa9",
    "papermill": {
     "duration": 0.18316,
     "end_time": "2021-11-23T16:50:16.32262",
     "exception": false,
     "start_time": "2021-11-23T16:50:16.13946",
     "status": "completed"
    },
    "tags": []
   },
   "outputs": [],
   "source": [
    "spark.sql(\"set spark.sql.legacy.timeParserPolicy=LEGACY\")\n",
    "#df.select('Date_of_Journey', from_unixtime(unix_timestamp('Date_of_Journey', 'dd/MM/yyyy')))"
   ]
  },
  {
   "cell_type": "code",
   "execution_count": null,
   "metadata": {
    "execution": {
     "iopub.execute_input": "2021-12-14T14:01:19.104298Z",
     "iopub.status.busy": "2021-12-14T14:01:19.100722Z",
     "iopub.status.idle": "2021-12-14T14:01:19.374711Z",
     "shell.execute_reply": "2021-12-14T14:01:19.373884Z",
     "shell.execute_reply.started": "2021-12-14T14:01:19.104256Z"
    },
    "id": "hIjxDfoFtFPg",
    "outputId": "d2d75c0e-12e9-468b-a250-add0d8829fd4",
    "papermill": {
     "duration": 0.34267,
     "end_time": "2021-11-23T16:50:16.872727",
     "exception": false,
     "start_time": "2021-11-23T16:50:16.530057",
     "status": "completed"
    },
    "tags": []
   },
   "outputs": [],
   "source": [
    "df.select('Dep_Time').show()"
   ]
  },
  {
   "cell_type": "code",
   "execution_count": null,
   "metadata": {
    "execution": {
     "iopub.execute_input": "2021-12-14T14:01:19.376205Z",
     "iopub.status.busy": "2021-12-14T14:01:19.375909Z",
     "iopub.status.idle": "2021-12-14T14:01:19.439101Z",
     "shell.execute_reply": "2021-12-14T14:01:19.43811Z",
     "shell.execute_reply.started": "2021-12-14T14:01:19.376158Z"
    },
    "id": "pdM8xfUttFU2",
    "papermill": {
     "duration": 0.165974,
     "end_time": "2021-11-23T16:50:17.170755",
     "exception": false,
     "start_time": "2021-11-23T16:50:17.004781",
     "status": "completed"
    },
    "tags": []
   },
   "outputs": [],
   "source": [
    "# Split Hour from Dep_Time column\n",
    "df = df.withColumn('Dep_Hour',hour('Dep_Time'))"
   ]
  },
  {
   "cell_type": "code",
   "execution_count": null,
   "metadata": {
    "execution": {
     "iopub.execute_input": "2021-12-14T14:01:19.440551Z",
     "iopub.status.busy": "2021-12-14T14:01:19.440284Z",
     "iopub.status.idle": "2021-12-14T14:01:19.477333Z",
     "shell.execute_reply": "2021-12-14T14:01:19.476498Z",
     "shell.execute_reply.started": "2021-12-14T14:01:19.440514Z"
    },
    "id": "PYzKK1bxtFaS",
    "papermill": {
     "duration": 0.171681,
     "end_time": "2021-11-23T16:50:17.484271",
     "exception": false,
     "start_time": "2021-11-23T16:50:17.31259",
     "status": "completed"
    },
    "tags": []
   },
   "outputs": [],
   "source": [
    "# Split minute from Dep_Time column\n",
    "df = df.withColumn('Dep_Minute',minute('Dep_Time'))"
   ]
  },
  {
   "cell_type": "code",
   "execution_count": null,
   "metadata": {
    "execution": {
     "iopub.execute_input": "2021-12-14T14:01:19.480215Z",
     "iopub.status.busy": "2021-12-14T14:01:19.478441Z",
     "iopub.status.idle": "2021-12-14T14:01:19.706892Z",
     "shell.execute_reply": "2021-12-14T14:01:19.706151Z",
     "shell.execute_reply.started": "2021-12-14T14:01:19.480167Z"
    },
    "id": "7dAgsKoptFXq",
    "outputId": "473bc798-b59d-4c5d-91f0-652873410c19",
    "papermill": {
     "duration": 0.316134,
     "end_time": "2021-11-23T16:50:17.941974",
     "exception": false,
     "start_time": "2021-11-23T16:50:17.62584",
     "status": "completed"
    },
    "tags": []
   },
   "outputs": [],
   "source": [
    "df.select('Dep_Hour','Dep_Minute').show()"
   ]
  },
  {
   "cell_type": "code",
   "execution_count": null,
   "metadata": {
    "execution": {
     "iopub.execute_input": "2021-12-14T14:01:19.708177Z",
     "iopub.status.busy": "2021-12-14T14:01:19.707937Z",
     "iopub.status.idle": "2021-12-14T14:01:19.742528Z",
     "shell.execute_reply": "2021-12-14T14:01:19.741732Z",
     "shell.execute_reply.started": "2021-12-14T14:01:19.708141Z"
    },
    "id": "Y0WCWbN6t2cO",
    "papermill": {
     "duration": 0.216377,
     "end_time": "2021-11-23T16:50:18.371745",
     "exception": false,
     "start_time": "2021-11-23T16:50:18.155368",
     "status": "completed"
    },
    "tags": []
   },
   "outputs": [],
   "source": [
    "df = df.drop('Dep_Time')"
   ]
  },
  {
   "cell_type": "markdown",
   "metadata": {
    "id": "DKUUBQ3JzTN4",
    "papermill": {
     "duration": 0.127267,
     "end_time": "2021-11-23T16:50:18.630985",
     "exception": false,
     "start_time": "2021-11-23T16:50:18.503718",
     "status": "completed"
    },
    "tags": []
   },
   "source": [
    "#### Handle Date_of_Journey column"
   ]
  },
  {
   "cell_type": "code",
   "execution_count": null,
   "metadata": {
    "execution": {
     "iopub.execute_input": "2021-12-14T14:01:19.74381Z",
     "iopub.status.busy": "2021-12-14T14:01:19.743557Z",
     "iopub.status.idle": "2021-12-14T14:01:19.782455Z",
     "shell.execute_reply": "2021-12-14T14:01:19.78169Z",
     "shell.execute_reply.started": "2021-12-14T14:01:19.743778Z"
    },
    "id": "Ed6QYCTDt2kF",
    "papermill": {
     "duration": 0.159598,
     "end_time": "2021-11-23T16:50:18.920648",
     "exception": false,
     "start_time": "2021-11-23T16:50:18.76105",
     "status": "completed"
    },
    "tags": []
   },
   "outputs": [],
   "source": [
    "# convert data to date\n",
    "#df = df.withColumn(\"Date_of_Journey\",to_date(col(\"Date_of_Journey\"),\"dd/MM/yyyy\"))\n",
    "df = df.withColumn('Date_of_Journey',to_timestamp(col('Date_of_Journey'), 'dd/MM/yyyy'))"
   ]
  },
  {
   "cell_type": "code",
   "execution_count": null,
   "metadata": {
    "execution": {
     "iopub.execute_input": "2021-12-14T14:01:19.78367Z",
     "iopub.status.busy": "2021-12-14T14:01:19.783439Z",
     "iopub.status.idle": "2021-12-14T14:01:19.825773Z",
     "shell.execute_reply": "2021-12-14T14:01:19.824893Z",
     "shell.execute_reply.started": "2021-12-14T14:01:19.78364Z"
    },
    "id": "xL-YPrNht2ms",
    "papermill": {
     "duration": 0.153307,
     "end_time": "2021-11-23T16:50:19.209582",
     "exception": false,
     "start_time": "2021-11-23T16:50:19.056275",
     "status": "completed"
    },
    "tags": []
   },
   "outputs": [],
   "source": [
    "# Journey Month\n",
    "df = df.withColumn('Journey_Month',month('Date_of_Journey'))"
   ]
  },
  {
   "cell_type": "code",
   "execution_count": null,
   "metadata": {
    "execution": {
     "iopub.execute_input": "2021-12-14T14:01:19.827245Z",
     "iopub.status.busy": "2021-12-14T14:01:19.826964Z",
     "iopub.status.idle": "2021-12-14T14:01:19.904301Z",
     "shell.execute_reply": "2021-12-14T14:01:19.903511Z",
     "shell.execute_reply.started": "2021-12-14T14:01:19.827207Z"
    },
    "id": "Onx2X4ONt2pS",
    "papermill": {
     "duration": 0.154386,
     "end_time": "2021-11-23T16:50:19.497856",
     "exception": false,
     "start_time": "2021-11-23T16:50:19.34347",
     "status": "completed"
    },
    "tags": []
   },
   "outputs": [],
   "source": [
    "# Journey Day\n",
    "df = df.withColumn('Journey_Day', dayofmonth('Date_of_Journey'))"
   ]
  },
  {
   "cell_type": "code",
   "execution_count": null,
   "metadata": {
    "execution": {
     "iopub.execute_input": "2021-12-14T14:01:19.905527Z",
     "iopub.status.busy": "2021-12-14T14:01:19.905295Z",
     "iopub.status.idle": "2021-12-14T14:01:19.949181Z",
     "shell.execute_reply": "2021-12-14T14:01:19.942882Z",
     "shell.execute_reply.started": "2021-12-14T14:01:19.905498Z"
    },
    "id": "QTSUPqyft2r6",
    "papermill": {
     "duration": 0.146394,
     "end_time": "2021-11-23T16:50:19.772016",
     "exception": false,
     "start_time": "2021-11-23T16:50:19.625622",
     "status": "completed"
    },
    "tags": []
   },
   "outputs": [],
   "source": [
    "df = df.drop('Date_of_Journey')"
   ]
  },
  {
   "cell_type": "code",
   "execution_count": null,
   "metadata": {
    "execution": {
     "iopub.execute_input": "2021-12-14T14:01:19.958636Z",
     "iopub.status.busy": "2021-12-14T14:01:19.950448Z",
     "iopub.status.idle": "2021-12-14T14:01:20.444731Z",
     "shell.execute_reply": "2021-12-14T14:01:20.443917Z",
     "shell.execute_reply.started": "2021-12-14T14:01:19.958595Z"
    },
    "id": "irWXXMsct2uX",
    "outputId": "c867a6b6-fcb7-4b0f-9a82-37cd9654471e",
    "papermill": {
     "duration": 0.447832,
     "end_time": "2021-11-23T16:50:20.354484",
     "exception": false,
     "start_time": "2021-11-23T16:50:19.906652",
     "status": "completed"
    },
    "tags": []
   },
   "outputs": [],
   "source": [
    "df.select('Journey_Day','Journey_Month').show()"
   ]
  },
  {
   "cell_type": "code",
   "execution_count": null,
   "metadata": {
    "execution": {
     "iopub.execute_input": "2021-12-14T14:01:20.448083Z",
     "iopub.status.busy": "2021-12-14T14:01:20.445877Z",
     "iopub.status.idle": "2021-12-14T14:01:20.458002Z",
     "shell.execute_reply": "2021-12-14T14:01:20.457194Z",
     "shell.execute_reply.started": "2021-12-14T14:01:20.448035Z"
    },
    "id": "qrTQtFjjt2w_",
    "outputId": "6651a911-3fe8-43ba-c4b1-327fbc74f24f",
    "papermill": {
     "duration": 0.140477,
     "end_time": "2021-11-23T16:50:20.63406",
     "exception": false,
     "start_time": "2021-11-23T16:50:20.493583",
     "status": "completed"
    },
    "tags": []
   },
   "outputs": [],
   "source": [
    "df.printSchema()"
   ]
  },
  {
   "cell_type": "markdown",
   "metadata": {
    "id": "tNFZW0qbzPM0",
    "papermill": {
     "duration": 0.130598,
     "end_time": "2021-11-23T16:50:20.894377",
     "exception": false,
     "start_time": "2021-11-23T16:50:20.763779",
     "status": "completed"
    },
    "tags": []
   },
   "source": [
    "### Handle Arrival_Time column"
   ]
  },
  {
   "cell_type": "code",
   "execution_count": null,
   "metadata": {
    "execution": {
     "iopub.execute_input": "2021-12-14T14:01:20.460541Z",
     "iopub.status.busy": "2021-12-14T14:01:20.45964Z",
     "iopub.status.idle": "2021-12-14T14:01:20.550802Z",
     "shell.execute_reply": "2021-12-14T14:01:20.549925Z",
     "shell.execute_reply.started": "2021-12-14T14:01:20.460501Z"
    },
    "id": "l_9PYLH1t221",
    "papermill": {
     "duration": 0.207453,
     "end_time": "2021-11-23T16:50:21.230668",
     "exception": false,
     "start_time": "2021-11-23T16:50:21.023215",
     "status": "completed"
    },
    "tags": []
   },
   "outputs": [],
   "source": [
    "df =df.withColumn('Arrival_Time', split(col('Arrival_Time'), ' ').getItem(0))"
   ]
  },
  {
   "cell_type": "code",
   "execution_count": null,
   "metadata": {
    "execution": {
     "iopub.execute_input": "2021-12-14T14:01:20.557954Z",
     "iopub.status.busy": "2021-12-14T14:01:20.551973Z",
     "iopub.status.idle": "2021-12-14T14:01:20.747997Z",
     "shell.execute_reply": "2021-12-14T14:01:20.747206Z",
     "shell.execute_reply.started": "2021-12-14T14:01:20.557908Z"
    },
    "id": "ioJSQ1Klt257",
    "outputId": "3b9ac63f-d89b-40b2-95bd-7349ac082f3d",
    "papermill": {
     "duration": 0.255903,
     "end_time": "2021-11-23T16:50:21.620419",
     "exception": false,
     "start_time": "2021-11-23T16:50:21.364516",
     "status": "completed"
    },
    "tags": []
   },
   "outputs": [],
   "source": [
    "df.select('Arrival_Time').show()"
   ]
  },
  {
   "cell_type": "code",
   "execution_count": null,
   "metadata": {
    "execution": {
     "iopub.execute_input": "2021-12-14T14:01:20.750746Z",
     "iopub.status.busy": "2021-12-14T14:01:20.750144Z",
     "iopub.status.idle": "2021-12-14T14:01:20.774788Z",
     "shell.execute_reply": "2021-12-14T14:01:20.773984Z",
     "shell.execute_reply.started": "2021-12-14T14:01:20.750706Z"
    },
    "id": "p6ipYEoxt28o",
    "papermill": {
     "duration": 0.152302,
     "end_time": "2021-11-23T16:50:21.911824",
     "exception": false,
     "start_time": "2021-11-23T16:50:21.759522",
     "status": "completed"
    },
    "tags": []
   },
   "outputs": [],
   "source": [
    "df = df.withColumn('Arrival_Hour', hour('Arrival_Time'))"
   ]
  },
  {
   "cell_type": "code",
   "execution_count": null,
   "metadata": {
    "execution": {
     "iopub.execute_input": "2021-12-14T14:01:20.778394Z",
     "iopub.status.busy": "2021-12-14T14:01:20.777891Z",
     "iopub.status.idle": "2021-12-14T14:01:20.804575Z",
     "shell.execute_reply": "2021-12-14T14:01:20.803787Z",
     "shell.execute_reply.started": "2021-12-14T14:01:20.778354Z"
    },
    "id": "vLObMjQnt2_T",
    "papermill": {
     "duration": 0.159414,
     "end_time": "2021-11-23T16:50:22.206264",
     "exception": false,
     "start_time": "2021-11-23T16:50:22.04685",
     "status": "completed"
    },
    "tags": []
   },
   "outputs": [],
   "source": [
    "df = df.withColumn('Arrival_Minute', minute('Arrival_Time'))"
   ]
  },
  {
   "cell_type": "code",
   "execution_count": null,
   "metadata": {
    "execution": {
     "iopub.execute_input": "2021-12-14T14:01:20.805714Z",
     "iopub.status.busy": "2021-12-14T14:01:20.805544Z",
     "iopub.status.idle": "2021-12-14T14:01:21.08156Z",
     "shell.execute_reply": "2021-12-14T14:01:21.080754Z",
     "shell.execute_reply.started": "2021-12-14T14:01:20.805693Z"
    },
    "id": "KHO5cw80t3CC",
    "outputId": "a87a7cc1-bf07-4e79-ab4d-49a10db7f6dd",
    "papermill": {
     "duration": 0.284625,
     "end_time": "2021-11-23T16:50:22.623717",
     "exception": false,
     "start_time": "2021-11-23T16:50:22.339092",
     "status": "completed"
    },
    "tags": []
   },
   "outputs": [],
   "source": [
    "df.select('Arrival_Hour','Arrival_Minute').show()"
   ]
  },
  {
   "cell_type": "code",
   "execution_count": null,
   "metadata": {
    "execution": {
     "iopub.execute_input": "2021-12-14T14:01:21.082995Z",
     "iopub.status.busy": "2021-12-14T14:01:21.082701Z",
     "iopub.status.idle": "2021-12-14T14:01:21.104862Z",
     "shell.execute_reply": "2021-12-14T14:01:21.103941Z",
     "shell.execute_reply.started": "2021-12-14T14:01:21.082953Z"
    },
    "id": "l9yV79htt3Em",
    "papermill": {
     "duration": 0.149381,
     "end_time": "2021-11-23T16:50:22.913298",
     "exception": false,
     "start_time": "2021-11-23T16:50:22.763917",
     "status": "completed"
    },
    "tags": []
   },
   "outputs": [],
   "source": [
    "df = df.drop('Arrival_Time')"
   ]
  },
  {
   "cell_type": "markdown",
   "metadata": {
    "id": "9vy9w62TzLZ6",
    "papermill": {
     "duration": 0.132457,
     "end_time": "2021-11-23T16:50:23.238243",
     "exception": false,
     "start_time": "2021-11-23T16:50:23.105786",
     "status": "completed"
    },
    "tags": []
   },
   "source": [
    "#### Handle Duration column"
   ]
  },
  {
   "cell_type": "code",
   "execution_count": null,
   "metadata": {
    "execution": {
     "iopub.execute_input": "2021-12-14T14:01:21.106335Z",
     "iopub.status.busy": "2021-12-14T14:01:21.106043Z",
     "iopub.status.idle": "2021-12-14T14:01:21.349Z",
     "shell.execute_reply": "2021-12-14T14:01:21.3465Z",
     "shell.execute_reply.started": "2021-12-14T14:01:21.106294Z"
    },
    "id": "CSi4BU_Wt3MM",
    "outputId": "63bdf270-dd79-4063-be77-1e7efe8102b5",
    "papermill": {
     "duration": 0.265785,
     "end_time": "2021-11-23T16:50:23.634903",
     "exception": false,
     "start_time": "2021-11-23T16:50:23.369118",
     "status": "completed"
    },
    "tags": []
   },
   "outputs": [],
   "source": [
    "df.select('Duration').show()"
   ]
  },
  {
   "cell_type": "code",
   "execution_count": null,
   "metadata": {
    "execution": {
     "iopub.execute_input": "2021-12-14T14:01:21.350722Z",
     "iopub.status.busy": "2021-12-14T14:01:21.350434Z",
     "iopub.status.idle": "2021-12-14T14:01:21.453928Z",
     "shell.execute_reply": "2021-12-14T14:01:21.453063Z",
     "shell.execute_reply.started": "2021-12-14T14:01:21.35068Z"
    },
    "id": "FX8a4zUBt3RQ",
    "papermill": {
     "duration": 0.179104,
     "end_time": "2021-11-23T16:50:23.963684",
     "exception": false,
     "start_time": "2021-11-23T16:50:23.78458",
     "status": "completed"
    },
    "tags": []
   },
   "outputs": [],
   "source": [
    "# Split hour and minute from duration column\n",
    "df = df.withColumn('Duration_Hour', split(df['Duration'], ' ').getItem(0)).withColumn('Duration_Minute', split(df['Duration'],' ').getItem(1))"
   ]
  },
  {
   "cell_type": "code",
   "execution_count": null,
   "metadata": {
    "execution": {
     "iopub.execute_input": "2021-12-14T14:01:21.455292Z",
     "iopub.status.busy": "2021-12-14T14:01:21.455021Z",
     "iopub.status.idle": "2021-12-14T14:01:21.728156Z",
     "shell.execute_reply": "2021-12-14T14:01:21.72744Z",
     "shell.execute_reply.started": "2021-12-14T14:01:21.455258Z"
    },
    "id": "AJiDw4gvt3T_",
    "outputId": "99b2a501-b441-4954-f8dd-ef3b4b74879d",
    "papermill": {
     "duration": 0.274476,
     "end_time": "2021-11-23T16:50:24.392213",
     "exception": false,
     "start_time": "2021-11-23T16:50:24.117737",
     "status": "completed"
    },
    "tags": []
   },
   "outputs": [],
   "source": [
    "df.select('Duration_Hour',\"Duration_Minute\").show()"
   ]
  },
  {
   "cell_type": "code",
   "execution_count": null,
   "metadata": {
    "execution": {
     "iopub.execute_input": "2021-12-14T14:01:21.729361Z",
     "iopub.status.busy": "2021-12-14T14:01:21.729139Z",
     "iopub.status.idle": "2021-12-14T14:01:21.82768Z",
     "shell.execute_reply": "2021-12-14T14:01:21.826908Z",
     "shell.execute_reply.started": "2021-12-14T14:01:21.729331Z"
    },
    "id": "6rexJnAot3ce",
    "papermill": {
     "duration": 0.217277,
     "end_time": "2021-11-23T16:50:24.756372",
     "exception": false,
     "start_time": "2021-11-23T16:50:24.539095",
     "status": "completed"
    },
    "tags": []
   },
   "outputs": [],
   "source": [
    "# Handle null values in Duration_Hour \n",
    "df = df.withColumn(\"Duration_Hour\", expr(\"CASE WHEN Duration_Hour IS NULL THEN '0h' \" +  \"ELSE Duration_Hour END\"))"
   ]
  },
  {
   "cell_type": "code",
   "execution_count": null,
   "metadata": {
    "execution": {
     "iopub.execute_input": "2021-12-14T14:01:21.828766Z",
     "iopub.status.busy": "2021-12-14T14:01:21.828604Z",
     "iopub.status.idle": "2021-12-14T14:01:21.858697Z",
     "shell.execute_reply": "2021-12-14T14:01:21.857914Z",
     "shell.execute_reply.started": "2021-12-14T14:01:21.828746Z"
    },
    "id": "OeQgkhfot3h_",
    "papermill": {
     "duration": 0.253756,
     "end_time": "2021-11-23T16:50:25.229099",
     "exception": false,
     "start_time": "2021-11-23T16:50:24.975343",
     "status": "completed"
    },
    "tags": []
   },
   "outputs": [],
   "source": [
    "# Handle null values in Duration_Minute\n",
    "df = df.withColumn(\"Duration_Minute\", expr(\"CASE WHEN Duration_Minute IS NULL THEN '0m' \" +  \"ELSE Duration_Minute END\"))"
   ]
  },
  {
   "cell_type": "code",
   "execution_count": null,
   "metadata": {
    "execution": {
     "iopub.execute_input": "2021-12-14T14:01:21.859985Z",
     "iopub.status.busy": "2021-12-14T14:01:21.85974Z",
     "iopub.status.idle": "2021-12-14T14:01:22.04768Z",
     "shell.execute_reply": "2021-12-14T14:01:22.046937Z",
     "shell.execute_reply.started": "2021-12-14T14:01:21.859954Z"
    },
    "id": "fZGj-HDct3fH",
    "outputId": "9411ea5a-c242-420a-83b8-f6575463ca12",
    "papermill": {
     "duration": 0.29845,
     "end_time": "2021-11-23T16:50:25.730261",
     "exception": false,
     "start_time": "2021-11-23T16:50:25.431811",
     "status": "completed"
    },
    "tags": []
   },
   "outputs": [],
   "source": [
    "df.select('Duration_Hour','Duration_Minute').show()"
   ]
  },
  {
   "cell_type": "code",
   "execution_count": null,
   "metadata": {
    "execution": {
     "iopub.execute_input": "2021-12-14T14:01:22.064868Z",
     "iopub.status.busy": "2021-12-14T14:01:22.064028Z",
     "iopub.status.idle": "2021-12-14T14:01:22.096055Z",
     "shell.execute_reply": "2021-12-14T14:01:22.095229Z",
     "shell.execute_reply.started": "2021-12-14T14:01:22.064803Z"
    },
    "id": "FYdI3NKgt3mw",
    "papermill": {
     "duration": 0.157316,
     "end_time": "2021-11-23T16:50:26.023615",
     "exception": false,
     "start_time": "2021-11-23T16:50:25.866299",
     "status": "completed"
    },
    "tags": []
   },
   "outputs": [],
   "source": [
    "# get values minute \n",
    "df = df.withColumn(\"Duration_Minute\", regexp_extract(\"Duration_Minute\", r'(\\d+)m' , 1 ))"
   ]
  },
  {
   "cell_type": "code",
   "execution_count": null,
   "metadata": {
    "execution": {
     "iopub.execute_input": "2021-12-14T14:01:22.097509Z",
     "iopub.status.busy": "2021-12-14T14:01:22.097221Z",
     "iopub.status.idle": "2021-12-14T14:01:22.127531Z",
     "shell.execute_reply": "2021-12-14T14:01:22.126736Z",
     "shell.execute_reply.started": "2021-12-14T14:01:22.097472Z"
    },
    "id": "9QqICFTHt3uk",
    "papermill": {
     "duration": 0.155288,
     "end_time": "2021-11-23T16:50:26.311269",
     "exception": false,
     "start_time": "2021-11-23T16:50:26.155981",
     "status": "completed"
    },
    "tags": []
   },
   "outputs": [],
   "source": [
    "# get values hour\n",
    "df = df.withColumn(\"Duration_Hour\", regexp_extract(\"Duration_Hour\", r'(\\d+)h' , 1 ))"
   ]
  },
  {
   "cell_type": "code",
   "execution_count": null,
   "metadata": {
    "execution": {
     "iopub.execute_input": "2021-12-14T14:01:22.128808Z",
     "iopub.status.busy": "2021-12-14T14:01:22.128557Z",
     "iopub.status.idle": "2021-12-14T14:01:22.333194Z",
     "shell.execute_reply": "2021-12-14T14:01:22.332347Z",
     "shell.execute_reply.started": "2021-12-14T14:01:22.128775Z"
    },
    "id": "1AmVe7UOt3pX",
    "outputId": "a0eb7621-be2d-4c7f-d012-f813abb8a341",
    "papermill": {
     "duration": 0.27507,
     "end_time": "2021-11-23T16:50:26.717179",
     "exception": false,
     "start_time": "2021-11-23T16:50:26.442109",
     "status": "completed"
    },
    "tags": []
   },
   "outputs": [],
   "source": [
    "df.select('Duration_Hour','Duration_Minute').show()"
   ]
  },
  {
   "cell_type": "code",
   "execution_count": null,
   "metadata": {
    "execution": {
     "iopub.execute_input": "2021-12-14T14:01:22.334581Z",
     "iopub.status.busy": "2021-12-14T14:01:22.334312Z",
     "iopub.status.idle": "2021-12-14T14:01:22.375099Z",
     "shell.execute_reply": "2021-12-14T14:01:22.374161Z",
     "shell.execute_reply.started": "2021-12-14T14:01:22.334544Z"
    },
    "id": "b2oYJr9Mt30C",
    "papermill": {
     "duration": 0.157087,
     "end_time": "2021-11-23T16:50:27.019576",
     "exception": false,
     "start_time": "2021-11-23T16:50:26.862489",
     "status": "completed"
    },
    "tags": []
   },
   "outputs": [],
   "source": [
    "df = df.withColumn('Duration_Hour', df.Duration_Hour.cast(IntegerType()))"
   ]
  },
  {
   "cell_type": "code",
   "execution_count": null,
   "metadata": {
    "execution": {
     "iopub.execute_input": "2021-12-14T14:01:22.376539Z",
     "iopub.status.busy": "2021-12-14T14:01:22.376258Z",
     "iopub.status.idle": "2021-12-14T14:01:22.400732Z",
     "shell.execute_reply": "2021-12-14T14:01:22.399912Z",
     "shell.execute_reply.started": "2021-12-14T14:01:22.3765Z"
    },
    "id": "BaPCShM4t325",
    "papermill": {
     "duration": 0.152288,
     "end_time": "2021-11-23T16:50:27.305364",
     "exception": false,
     "start_time": "2021-11-23T16:50:27.153076",
     "status": "completed"
    },
    "tags": []
   },
   "outputs": [],
   "source": [
    "df = df.withColumn('Duration_Minute', df.Duration_Hour.cast(IntegerType()))"
   ]
  },
  {
   "cell_type": "code",
   "execution_count": null,
   "metadata": {
    "execution": {
     "iopub.execute_input": "2021-12-14T14:01:22.402135Z",
     "iopub.status.busy": "2021-12-14T14:01:22.401871Z",
     "iopub.status.idle": "2021-12-14T14:01:22.422724Z",
     "shell.execute_reply": "2021-12-14T14:01:22.421911Z",
     "shell.execute_reply.started": "2021-12-14T14:01:22.402097Z"
    },
    "id": "LckxdDeqt36C",
    "papermill": {
     "duration": 0.144648,
     "end_time": "2021-11-23T16:50:27.5815",
     "exception": false,
     "start_time": "2021-11-23T16:50:27.436852",
     "status": "completed"
    },
    "tags": []
   },
   "outputs": [],
   "source": [
    "df= df.drop('Duration')"
   ]
  },
  {
   "cell_type": "code",
   "execution_count": null,
   "metadata": {
    "execution": {
     "iopub.execute_input": "2021-12-14T14:01:22.424125Z",
     "iopub.status.busy": "2021-12-14T14:01:22.423864Z",
     "iopub.status.idle": "2021-12-14T14:01:22.864634Z",
     "shell.execute_reply": "2021-12-14T14:01:22.863891Z",
     "shell.execute_reply.started": "2021-12-14T14:01:22.424088Z"
    },
    "id": "phK5bn0-t39Z",
    "outputId": "365d2f27-4d25-4b53-f128-89145ca9bddb",
    "papermill": {
     "duration": 0.359747,
     "end_time": "2021-11-23T16:50:28.072409",
     "exception": false,
     "start_time": "2021-11-23T16:50:27.712662",
     "status": "completed"
    },
    "tags": []
   },
   "outputs": [],
   "source": [
    "df.select('Price','Journey_Day','Journey_Month','Dep_Hour','Dep_Minute','Arrival_Hour',\n",
    "                       'Arrival_Minute','Duration_Hour','Duration_Minute').show()"
   ]
  },
  {
   "cell_type": "markdown",
   "metadata": {
    "id": "NWrsPPmDzDuF",
    "papermill": {
     "duration": 0.132019,
     "end_time": "2021-11-23T16:50:28.345755",
     "exception": false,
     "start_time": "2021-11-23T16:50:28.213736",
     "status": "completed"
    },
    "tags": []
   },
   "source": [
    "## Handling Categorical Data"
   ]
  },
  {
   "cell_type": "code",
   "execution_count": null,
   "metadata": {
    "execution": {
     "iopub.execute_input": "2021-12-14T14:01:22.865971Z",
     "iopub.status.busy": "2021-12-14T14:01:22.865675Z",
     "iopub.status.idle": "2021-12-14T14:01:23.122543Z",
     "shell.execute_reply": "2021-12-14T14:01:23.121747Z",
     "shell.execute_reply.started": "2021-12-14T14:01:22.865931Z"
    },
    "id": "xVnlHOeHu-74",
    "outputId": "d5cb8a18-28cd-4342-eb98-2c9e700059f7",
    "papermill": {
     "duration": 0.292132,
     "end_time": "2021-11-23T16:50:28.769384",
     "exception": false,
     "start_time": "2021-11-23T16:50:28.477252",
     "status": "completed"
    },
    "tags": []
   },
   "outputs": [],
   "source": [
    "df.select('Airline', 'Source', 'Destination', 'Route', 'Total_Stops', 'Additional_Info').show()"
   ]
  },
  {
   "cell_type": "markdown",
   "metadata": {
    "id": "fFn38gxKy_8r",
    "papermill": {
     "duration": 0.134625,
     "end_time": "2021-11-23T16:50:29.054666",
     "exception": false,
     "start_time": "2021-11-23T16:50:28.920041",
     "status": "completed"
    },
    "tags": []
   },
   "source": [
    "#### Handle Airline column"
   ]
  },
  {
   "cell_type": "code",
   "execution_count": null,
   "metadata": {
    "execution": {
     "iopub.execute_input": "2021-12-14T14:01:23.12804Z",
     "iopub.status.busy": "2021-12-14T14:01:23.12358Z",
     "iopub.status.idle": "2021-12-14T14:01:23.878168Z",
     "shell.execute_reply": "2021-12-14T14:01:23.877425Z",
     "shell.execute_reply.started": "2021-12-14T14:01:23.127997Z"
    },
    "id": "uGtWKnIbu_A-",
    "outputId": "9b998544-d2a9-443e-8fd6-5db25a955ed2",
    "papermill": {
     "duration": 0.868242,
     "end_time": "2021-11-23T16:50:30.05773",
     "exception": false,
     "start_time": "2021-11-23T16:50:29.189488",
     "status": "completed"
    },
    "tags": []
   },
   "outputs": [],
   "source": [
    "df.select(countDistinct('Airline')).show()"
   ]
  },
  {
   "cell_type": "code",
   "execution_count": null,
   "metadata": {
    "execution": {
     "iopub.execute_input": "2021-12-14T14:01:23.879449Z",
     "iopub.status.busy": "2021-12-14T14:01:23.879198Z",
     "iopub.status.idle": "2021-12-14T14:01:24.248725Z",
     "shell.execute_reply": "2021-12-14T14:01:24.247843Z",
     "shell.execute_reply.started": "2021-12-14T14:01:23.879415Z"
    },
    "id": "kqKvhBSeu_Dl",
    "outputId": "14e0788e-fb58-4e9a-af98-e4d48eabb82a",
    "papermill": {
     "duration": 0.445914,
     "end_time": "2021-11-23T16:50:30.648593",
     "exception": false,
     "start_time": "2021-11-23T16:50:30.202679",
     "status": "completed"
    },
    "tags": []
   },
   "outputs": [],
   "source": [
    "df.select('Airline').distinct().collect()"
   ]
  },
  {
   "cell_type": "code",
   "execution_count": null,
   "metadata": {
    "execution": {
     "iopub.execute_input": "2021-12-14T14:01:24.250353Z",
     "iopub.status.busy": "2021-12-14T14:01:24.250068Z",
     "iopub.status.idle": "2021-12-14T14:01:25.005759Z",
     "shell.execute_reply": "2021-12-14T14:01:25.003896Z",
     "shell.execute_reply.started": "2021-12-14T14:01:24.250314Z"
    },
    "id": "VVorGQLfu_Ga",
    "outputId": "690c0b81-be77-4112-d20b-ea08ba1453f3",
    "papermill": {
     "duration": 0.799277,
     "end_time": "2021-11-23T16:50:31.660397",
     "exception": false,
     "start_time": "2021-11-23T16:50:30.86112",
     "status": "completed"
    },
    "tags": []
   },
   "outputs": [],
   "source": [
    "df.groupBy('Airline').count().alias('Count').sort(col('Count').desc()).show()"
   ]
  },
  {
   "cell_type": "code",
   "execution_count": null,
   "metadata": {
    "execution": {
     "iopub.execute_input": "2021-12-14T14:01:25.009856Z",
     "iopub.status.busy": "2021-12-14T14:01:25.006789Z",
     "iopub.status.idle": "2021-12-14T14:01:26.007129Z",
     "shell.execute_reply": "2021-12-14T14:01:26.006336Z",
     "shell.execute_reply.started": "2021-12-14T14:01:25.009801Z"
    },
    "id": "v7nDsRfHu_J3",
    "papermill": {
     "duration": 1.009004,
     "end_time": "2021-11-23T16:50:32.816128",
     "exception": false,
     "start_time": "2021-11-23T16:50:31.807124",
     "status": "completed"
    },
    "tags": []
   },
   "outputs": [],
   "source": [
    "data = df.toPandas()"
   ]
  },
  {
   "cell_type": "code",
   "execution_count": null,
   "metadata": {
    "execution": {
     "iopub.execute_input": "2021-12-14T14:01:26.008807Z",
     "iopub.status.busy": "2021-12-14T14:01:26.008552Z",
     "iopub.status.idle": "2021-12-14T14:01:26.504375Z",
     "shell.execute_reply": "2021-12-14T14:01:26.503678Z",
     "shell.execute_reply.started": "2021-12-14T14:01:26.008775Z"
    },
    "id": "PWIXSvT9vZpn",
    "outputId": "ff2ea3cc-f171-4866-9c60-d2a39a0dfea3",
    "papermill": {
     "duration": 0.725887,
     "end_time": "2021-11-23T16:50:33.676953",
     "exception": false,
     "start_time": "2021-11-23T16:50:32.951066",
     "status": "completed"
    },
    "tags": []
   },
   "outputs": [],
   "source": [
    "plt.figure(figsize=(15,8))\n",
    "sns.boxplot(y='Price',x='Airline',data=data.sort_values('Price',ascending=False));\n",
    "plt.xticks(rotation = 45);"
   ]
  },
  {
   "cell_type": "code",
   "execution_count": null,
   "metadata": {
    "execution": {
     "iopub.execute_input": "2021-12-14T14:01:26.506255Z",
     "iopub.status.busy": "2021-12-14T14:01:26.505653Z",
     "iopub.status.idle": "2021-12-14T14:01:26.806056Z",
     "shell.execute_reply": "2021-12-14T14:01:26.805333Z",
     "shell.execute_reply.started": "2021-12-14T14:01:26.506211Z"
    },
    "id": "aCSL0rtfvZr8",
    "outputId": "dfa03680-61e2-45cf-e504-85f7906a36c1",
    "papermill": {
     "duration": 0.470228,
     "end_time": "2021-11-23T16:50:34.285064",
     "exception": false,
     "start_time": "2021-11-23T16:50:33.814836",
     "status": "completed"
    },
    "tags": []
   },
   "outputs": [],
   "source": [
    "plt.figure(figsize=(15,8))\n",
    "sns.boxplot(y='Price',x='Total_Stops',data=data.sort_values('Price',ascending=False));"
   ]
  },
  {
   "cell_type": "code",
   "execution_count": null,
   "metadata": {
    "execution": {
     "iopub.execute_input": "2021-12-14T14:01:26.808059Z",
     "iopub.status.busy": "2021-12-14T14:01:26.807208Z",
     "iopub.status.idle": "2021-12-14T14:01:27.410994Z",
     "shell.execute_reply": "2021-12-14T14:01:27.410079Z",
     "shell.execute_reply.started": "2021-12-14T14:01:26.808017Z"
    },
    "id": "d34L1vugvZun",
    "papermill": {
     "duration": 0.834027,
     "end_time": "2021-11-23T16:50:35.257999",
     "exception": false,
     "start_time": "2021-11-23T16:50:34.423972",
     "status": "completed"
    },
    "tags": []
   },
   "outputs": [],
   "source": [
    "import pyspark.sql.functions as F \n",
    "categ_air = df.select('Airline').distinct().rdd.flatMap(lambda x:x).collect()\n",
    "exprs_air = [F.when(F.col('Airline') == cat,1).otherwise(0).alias(str(cat)) for cat in categ_air]\n",
    "df = df.select(exprs_air + df.columns)"
   ]
  },
  {
   "cell_type": "code",
   "execution_count": null,
   "metadata": {
    "execution": {
     "iopub.execute_input": "2021-12-14T14:01:27.417187Z",
     "iopub.status.busy": "2021-12-14T14:01:27.412139Z",
     "iopub.status.idle": "2021-12-14T14:01:27.454199Z",
     "shell.execute_reply": "2021-12-14T14:01:27.453132Z",
     "shell.execute_reply.started": "2021-12-14T14:01:27.417147Z"
    },
    "id": "IvsWYiChvZ2d",
    "papermill": {
     "duration": 0.221286,
     "end_time": "2021-11-23T16:50:35.622149",
     "exception": false,
     "start_time": "2021-11-23T16:50:35.400863",
     "status": "completed"
    },
    "tags": []
   },
   "outputs": [],
   "source": [
    "test = df.select('Air India','GoAir','IndiGo','Jet Airways','Jet Airways Business','Multiple carriers',\n",
    "                    'Multiple carriers Premium economy','SpiceJet','Trujet','Vistara','Vistara Premium economy') # Air Asia"
   ]
  },
  {
   "cell_type": "code",
   "execution_count": null,
   "metadata": {
    "execution": {
     "iopub.execute_input": "2021-12-14T14:01:27.455788Z",
     "iopub.status.busy": "2021-12-14T14:01:27.455534Z",
     "iopub.status.idle": "2021-12-14T14:01:27.843325Z",
     "shell.execute_reply": "2021-12-14T14:01:27.842638Z",
     "shell.execute_reply.started": "2021-12-14T14:01:27.455753Z"
    },
    "id": "8GcAVPo2vZ5V",
    "outputId": "0c8722c5-bb52-49a0-80ee-9c16fa707392",
    "papermill": {
     "duration": 0.533344,
     "end_time": "2021-11-23T16:50:36.300117",
     "exception": false,
     "start_time": "2021-11-23T16:50:35.766773",
     "status": "completed"
    },
    "tags": []
   },
   "outputs": [],
   "source": [
    "test.toPandas().head()"
   ]
  },
  {
   "cell_type": "code",
   "execution_count": null,
   "metadata": {
    "execution": {
     "iopub.execute_input": "2021-12-14T14:01:27.844984Z",
     "iopub.status.busy": "2021-12-14T14:01:27.844413Z",
     "iopub.status.idle": "2021-12-14T14:01:27.871067Z",
     "shell.execute_reply": "2021-12-14T14:01:27.87034Z",
     "shell.execute_reply.started": "2021-12-14T14:01:27.844946Z"
    },
    "id": "AMi08DMsvZ76",
    "papermill": {
     "duration": 0.156873,
     "end_time": "2021-11-23T16:50:36.592648",
     "exception": false,
     "start_time": "2021-11-23T16:50:36.435775",
     "status": "completed"
    },
    "tags": []
   },
   "outputs": [],
   "source": [
    "df = df.drop('Air Asia').drop('Airline')"
   ]
  },
  {
   "cell_type": "markdown",
   "metadata": {
    "id": "Vs9SLPOEy5LH",
    "papermill": {
     "duration": 0.134251,
     "end_time": "2021-11-23T16:50:36.862299",
     "exception": false,
     "start_time": "2021-11-23T16:50:36.728048",
     "status": "completed"
    },
    "tags": []
   },
   "source": [
    "#### Handle Source column"
   ]
  },
  {
   "cell_type": "code",
   "execution_count": null,
   "metadata": {
    "execution": {
     "iopub.execute_input": "2021-12-14T14:01:27.872275Z",
     "iopub.status.busy": "2021-12-14T14:01:27.872047Z",
     "iopub.status.idle": "2021-12-14T14:01:28.259073Z",
     "shell.execute_reply": "2021-12-14T14:01:28.258255Z",
     "shell.execute_reply.started": "2021-12-14T14:01:27.872242Z"
    },
    "id": "pG2KnkoBvaDy",
    "outputId": "610b86a0-19b2-4602-ceec-51f3c8302885",
    "papermill": {
     "duration": 0.439674,
     "end_time": "2021-11-23T16:50:37.440633",
     "exception": false,
     "start_time": "2021-11-23T16:50:37.000959",
     "status": "completed"
    },
    "tags": []
   },
   "outputs": [],
   "source": [
    "df.select(countDistinct('Source')).show()"
   ]
  },
  {
   "cell_type": "code",
   "execution_count": null,
   "metadata": {
    "execution": {
     "iopub.execute_input": "2021-12-14T14:01:28.260499Z",
     "iopub.status.busy": "2021-12-14T14:01:28.26015Z",
     "iopub.status.idle": "2021-12-14T14:01:28.582436Z",
     "shell.execute_reply": "2021-12-14T14:01:28.581717Z",
     "shell.execute_reply.started": "2021-12-14T14:01:28.260461Z"
    },
    "id": "bkLDgWVUvaGS",
    "outputId": "5bf4ff0a-d1da-436b-bc40-91895b73f108",
    "papermill": {
     "duration": 0.377861,
     "end_time": "2021-11-23T16:50:37.968925",
     "exception": false,
     "start_time": "2021-11-23T16:50:37.591064",
     "status": "completed"
    },
    "tags": []
   },
   "outputs": [],
   "source": [
    "df.select('Source').distinct().collect()"
   ]
  },
  {
   "cell_type": "code",
   "execution_count": null,
   "metadata": {
    "execution": {
     "iopub.execute_input": "2021-12-14T14:01:28.584434Z",
     "iopub.status.busy": "2021-12-14T14:01:28.583726Z",
     "iopub.status.idle": "2021-12-14T14:01:28.91044Z",
     "shell.execute_reply": "2021-12-14T14:01:28.90948Z",
     "shell.execute_reply.started": "2021-12-14T14:01:28.584396Z"
    },
    "id": "Dz9dtMsyvaI-",
    "outputId": "9ccd6b46-be79-4b85-c8a8-f7c77a386029",
    "papermill": {
     "duration": 0.472101,
     "end_time": "2021-11-23T16:50:38.627073",
     "exception": false,
     "start_time": "2021-11-23T16:50:38.154972",
     "status": "completed"
    },
    "tags": []
   },
   "outputs": [],
   "source": [
    "df.groupBy('Source').count().alias('Count').sort(col('Count').desc()).show()"
   ]
  },
  {
   "cell_type": "code",
   "execution_count": null,
   "metadata": {
    "execution": {
     "iopub.execute_input": "2021-12-14T14:01:28.913545Z",
     "iopub.status.busy": "2021-12-14T14:01:28.911718Z",
     "iopub.status.idle": "2021-12-14T14:01:29.4172Z",
     "shell.execute_reply": "2021-12-14T14:01:29.416407Z",
     "shell.execute_reply.started": "2021-12-14T14:01:28.913496Z"
    },
    "id": "_Qgj8dXnvaLu",
    "outputId": "520ae6f3-4476-4d0e-b3ae-d51ed27cecce",
    "papermill": {
     "duration": 0.741114,
     "end_time": "2021-11-23T16:50:39.514774",
     "exception": false,
     "start_time": "2021-11-23T16:50:38.77366",
     "status": "completed"
    },
    "tags": []
   },
   "outputs": [],
   "source": [
    "plt.figure(figsize=(15,8));\n",
    "sns.catplot(y='Price',x='Source',data=data.sort_values('Price',ascending=False),kind='boxen');\n",
    "plt.xticks(rotation = 0);"
   ]
  },
  {
   "cell_type": "code",
   "execution_count": null,
   "metadata": {
    "execution": {
     "iopub.execute_input": "2021-12-14T14:01:29.419432Z",
     "iopub.status.busy": "2021-12-14T14:01:29.418634Z",
     "iopub.status.idle": "2021-12-14T14:01:29.972467Z",
     "shell.execute_reply": "2021-12-14T14:01:29.971693Z",
     "shell.execute_reply.started": "2021-12-14T14:01:29.419386Z"
    },
    "id": "pHOFvSj5vaOV",
    "papermill": {
     "duration": 0.56436,
     "end_time": "2021-11-23T16:50:40.217955",
     "exception": false,
     "start_time": "2021-11-23T16:50:39.653595",
     "status": "completed"
    },
    "tags": []
   },
   "outputs": [],
   "source": [
    "categ_sou = df.select('Source').distinct().rdd.flatMap(lambda x:x).collect()\n",
    "exprs_sou = [F.when(F.col('Source') == cat,1).otherwise(0).alias(str(cat)+'_Sour') for cat in categ_sou]\n",
    "df = df.select(exprs_sou+df.columns)"
   ]
  },
  {
   "cell_type": "code",
   "execution_count": null,
   "metadata": {
    "execution": {
     "iopub.execute_input": "2021-12-14T14:01:29.973769Z",
     "iopub.status.busy": "2021-12-14T14:01:29.973519Z",
     "iopub.status.idle": "2021-12-14T14:01:30.134274Z",
     "shell.execute_reply": "2021-12-14T14:01:30.133421Z",
     "shell.execute_reply.started": "2021-12-14T14:01:29.973736Z"
    },
    "id": "FvSbEQ2xvaTY",
    "outputId": "f6e5c97b-507d-4833-f23c-2b3ff9a95bdf",
    "papermill": {
     "duration": 0.276845,
     "end_time": "2021-11-23T16:50:40.635059",
     "exception": false,
     "start_time": "2021-11-23T16:50:40.358214",
     "status": "completed"
    },
    "tags": []
   },
   "outputs": [],
   "source": [
    "df.select('Chennai_Sour','Delhi_Sour','Kolkata_Sour','Mumbai_Sour').show()"
   ]
  },
  {
   "cell_type": "code",
   "execution_count": null,
   "metadata": {
    "execution": {
     "iopub.execute_input": "2021-12-14T14:01:30.137673Z",
     "iopub.status.busy": "2021-12-14T14:01:30.135405Z",
     "iopub.status.idle": "2021-12-14T14:01:30.166444Z",
     "shell.execute_reply": "2021-12-14T14:01:30.165654Z",
     "shell.execute_reply.started": "2021-12-14T14:01:30.137627Z"
    },
    "id": "9M9_thWqvaWJ",
    "papermill": {
     "duration": 0.164595,
     "end_time": "2021-11-23T16:50:40.942276",
     "exception": false,
     "start_time": "2021-11-23T16:50:40.777681",
     "status": "completed"
    },
    "tags": []
   },
   "outputs": [],
   "source": [
    "df = df.drop('Banglore_Sour').drop('Source')"
   ]
  },
  {
   "cell_type": "code",
   "execution_count": null,
   "metadata": {
    "execution": {
     "iopub.execute_input": "2021-12-14T14:01:30.172901Z",
     "iopub.status.busy": "2021-12-14T14:01:30.167508Z",
     "iopub.status.idle": "2021-12-14T14:01:30.181621Z",
     "shell.execute_reply": "2021-12-14T14:01:30.180774Z",
     "shell.execute_reply.started": "2021-12-14T14:01:30.172848Z"
    },
    "id": "Y7RJ6ZW-vaY0",
    "outputId": "62ede826-3ed2-4d8e-f3c8-6e5d7a94da0d",
    "papermill": {
     "duration": 0.149892,
     "end_time": "2021-11-23T16:50:41.233766",
     "exception": false,
     "start_time": "2021-11-23T16:50:41.083874",
     "status": "completed"
    },
    "tags": []
   },
   "outputs": [],
   "source": [
    "df.printSchema()"
   ]
  },
  {
   "cell_type": "markdown",
   "metadata": {
    "id": "HCU_ozqly19u",
    "papermill": {
     "duration": 0.143706,
     "end_time": "2021-11-23T16:50:41.528215",
     "exception": false,
     "start_time": "2021-11-23T16:50:41.384509",
     "status": "completed"
    },
    "tags": []
   },
   "source": [
    "#### Handle Destination column"
   ]
  },
  {
   "cell_type": "code",
   "execution_count": null,
   "metadata": {
    "execution": {
     "iopub.execute_input": "2021-12-14T14:01:30.184507Z",
     "iopub.status.busy": "2021-12-14T14:01:30.18335Z",
     "iopub.status.idle": "2021-12-14T14:01:30.577624Z",
     "shell.execute_reply": "2021-12-14T14:01:30.576849Z",
     "shell.execute_reply.started": "2021-12-14T14:01:30.184465Z"
    },
    "id": "kOKy9PyevaeF",
    "outputId": "431d410e-6dce-4001-91b4-ea84bd390e0a",
    "papermill": {
     "duration": 0.43802,
     "end_time": "2021-11-23T16:50:42.105976",
     "exception": false,
     "start_time": "2021-11-23T16:50:41.667956",
     "status": "completed"
    },
    "tags": []
   },
   "outputs": [],
   "source": [
    "df.select(countDistinct('Destination')).show()"
   ]
  },
  {
   "cell_type": "code",
   "execution_count": null,
   "metadata": {
    "execution": {
     "iopub.execute_input": "2021-12-14T14:01:30.578938Z",
     "iopub.status.busy": "2021-12-14T14:01:30.578681Z",
     "iopub.status.idle": "2021-12-14T14:01:30.86439Z",
     "shell.execute_reply": "2021-12-14T14:01:30.863681Z",
     "shell.execute_reply.started": "2021-12-14T14:01:30.578902Z"
    },
    "id": "s0AY4Chwvagk",
    "outputId": "cefb80a4-f283-43ec-c05f-05e1868b5735",
    "papermill": {
     "duration": 0.394522,
     "end_time": "2021-11-23T16:50:42.643872",
     "exception": false,
     "start_time": "2021-11-23T16:50:42.24935",
     "status": "completed"
    },
    "tags": []
   },
   "outputs": [],
   "source": [
    "df.select('Destination').distinct().collect()"
   ]
  },
  {
   "cell_type": "code",
   "execution_count": null,
   "metadata": {
    "execution": {
     "iopub.execute_input": "2021-12-14T14:01:30.866373Z",
     "iopub.status.busy": "2021-12-14T14:01:30.865854Z",
     "iopub.status.idle": "2021-12-14T14:01:31.276517Z",
     "shell.execute_reply": "2021-12-14T14:01:31.275695Z",
     "shell.execute_reply.started": "2021-12-14T14:01:30.866334Z"
    },
    "id": "kfl3AWfJvajW",
    "outputId": "d352373e-6006-4be9-eb79-15ebd34abe66",
    "papermill": {
     "duration": 0.444871,
     "end_time": "2021-11-23T16:50:43.228888",
     "exception": false,
     "start_time": "2021-11-23T16:50:42.784017",
     "status": "completed"
    },
    "tags": []
   },
   "outputs": [],
   "source": [
    "df.groupBy('Destination').count().alias('Count').sort(col('Count').desc()).show()"
   ]
  },
  {
   "cell_type": "code",
   "execution_count": null,
   "metadata": {
    "execution": {
     "iopub.execute_input": "2021-12-14T14:01:31.279526Z",
     "iopub.status.busy": "2021-12-14T14:01:31.277641Z",
     "iopub.status.idle": "2021-12-14T14:01:31.761443Z",
     "shell.execute_reply": "2021-12-14T14:01:31.760767Z",
     "shell.execute_reply.started": "2021-12-14T14:01:31.279481Z"
    },
    "id": "6NYwsb_QvamJ",
    "outputId": "8418124d-f580-404c-98ff-72f21a641e70",
    "papermill": {
     "duration": 0.588899,
     "end_time": "2021-11-23T16:50:43.967421",
     "exception": false,
     "start_time": "2021-11-23T16:50:43.378522",
     "status": "completed"
    },
    "tags": []
   },
   "outputs": [],
   "source": [
    "plt.figure(figsize=(15,8));\n",
    "sns.catplot(y='Price',x='Destination',data=data.sort_values('Price',ascending=False),kind='boxen');\n",
    "plt.xticks(rotation = 45);"
   ]
  },
  {
   "cell_type": "code",
   "execution_count": null,
   "metadata": {
    "execution": {
     "iopub.execute_input": "2021-12-14T14:01:31.762935Z",
     "iopub.status.busy": "2021-12-14T14:01:31.762647Z",
     "iopub.status.idle": "2021-12-14T14:01:32.66938Z",
     "shell.execute_reply": "2021-12-14T14:01:32.668435Z",
     "shell.execute_reply.started": "2021-12-14T14:01:31.762898Z"
    },
    "id": "VyGU5jVVvaou",
    "papermill": {
     "duration": 0.640615,
     "end_time": "2021-11-23T16:50:44.755135",
     "exception": false,
     "start_time": "2021-11-23T16:50:44.11452",
     "status": "completed"
    },
    "tags": []
   },
   "outputs": [],
   "source": [
    "categ_des = df.select('Destination').distinct().rdd.flatMap(lambda x:x).collect()\n",
    "exprs_des = [F.when(F.col('Destination') == cat,1).otherwise(0).alias(str(cat)+'_Des') for cat in categ_des]\n",
    "df = df.select(exprs_des +df.columns)"
   ]
  },
  {
   "cell_type": "code",
   "execution_count": null,
   "metadata": {
    "execution": {
     "iopub.execute_input": "2021-12-14T14:01:32.671211Z",
     "iopub.status.busy": "2021-12-14T14:01:32.670951Z",
     "iopub.status.idle": "2021-12-14T14:01:32.694204Z",
     "shell.execute_reply": "2021-12-14T14:01:32.693397Z",
     "shell.execute_reply.started": "2021-12-14T14:01:32.671169Z"
    },
    "id": "5IP5ho2UvarR",
    "papermill": {
     "duration": 0.187998,
     "end_time": "2021-11-23T16:50:45.086889",
     "exception": false,
     "start_time": "2021-11-23T16:50:44.898891",
     "status": "completed"
    },
    "tags": []
   },
   "outputs": [],
   "source": [
    "df = df.drop('Banglore_Des').drop('Destination')"
   ]
  },
  {
   "cell_type": "markdown",
   "metadata": {
    "id": "iAsa14H8ywgF",
    "papermill": {
     "duration": 0.144334,
     "end_time": "2021-11-23T16:50:45.375144",
     "exception": false,
     "start_time": "2021-11-23T16:50:45.23081",
     "status": "completed"
    },
    "tags": []
   },
   "source": [
    "#### Handle Route column"
   ]
  },
  {
   "cell_type": "code",
   "execution_count": null,
   "metadata": {
    "execution": {
     "iopub.execute_input": "2021-12-14T14:01:32.695662Z",
     "iopub.status.busy": "2021-12-14T14:01:32.695427Z",
     "iopub.status.idle": "2021-12-14T14:01:32.8051Z",
     "shell.execute_reply": "2021-12-14T14:01:32.802805Z",
     "shell.execute_reply.started": "2021-12-14T14:01:32.695628Z"
    },
    "id": "iLzzjZLRvazp",
    "outputId": "38268fbc-af9e-477f-b786-36386da3f325",
    "papermill": {
     "duration": 0.244189,
     "end_time": "2021-11-23T16:50:45.760773",
     "exception": false,
     "start_time": "2021-11-23T16:50:45.516584",
     "status": "completed"
    },
    "tags": []
   },
   "outputs": [],
   "source": [
    "df.select('Route').show()"
   ]
  },
  {
   "cell_type": "code",
   "execution_count": null,
   "metadata": {
    "execution": {
     "iopub.execute_input": "2021-12-14T14:01:32.806661Z",
     "iopub.status.busy": "2021-12-14T14:01:32.806411Z",
     "iopub.status.idle": "2021-12-14T14:01:32.903313Z",
     "shell.execute_reply": "2021-12-14T14:01:32.902341Z",
     "shell.execute_reply.started": "2021-12-14T14:01:32.806628Z"
    },
    "id": "6SRPpMt9ww38",
    "papermill": {
     "duration": 0.230263,
     "end_time": "2021-11-23T16:50:46.133571",
     "exception": false,
     "start_time": "2021-11-23T16:50:45.903308",
     "status": "completed"
    },
    "tags": []
   },
   "outputs": [],
   "source": [
    "df = df.withColumn('Route_1',split(df['Route'],'→').getItem(0))\\\n",
    "            .withColumn('Route_2',split(df['Route'],'→').getItem(1))\\\n",
    "            .withColumn('Route_3',split(df['Route'],'→').getItem(2))\\\n",
    "            .withColumn('Route_4',split(df['Route'],'→').getItem(3))\\\n",
    "            .withColumn('Route_5',split(df['Route'],'→').getItem(4))"
   ]
  },
  {
   "cell_type": "code",
   "execution_count": null,
   "metadata": {
    "execution": {
     "iopub.execute_input": "2021-12-14T14:01:32.904931Z",
     "iopub.status.busy": "2021-12-14T14:01:32.904651Z",
     "iopub.status.idle": "2021-12-14T14:01:32.928172Z",
     "shell.execute_reply": "2021-12-14T14:01:32.927362Z",
     "shell.execute_reply.started": "2021-12-14T14:01:32.904894Z"
    },
    "id": "WZeHxTjuww5k",
    "papermill": {
     "duration": 0.165077,
     "end_time": "2021-11-23T16:50:46.441814",
     "exception": false,
     "start_time": "2021-11-23T16:50:46.276737",
     "status": "completed"
    },
    "tags": []
   },
   "outputs": [],
   "source": [
    "df = df.drop('Route').drop('Additional_Info')"
   ]
  },
  {
   "cell_type": "code",
   "execution_count": null,
   "metadata": {
    "execution": {
     "iopub.execute_input": "2021-12-14T14:01:32.929646Z",
     "iopub.status.busy": "2021-12-14T14:01:32.929401Z",
     "iopub.status.idle": "2021-12-14T14:01:33.098338Z",
     "shell.execute_reply": "2021-12-14T14:01:33.097339Z",
     "shell.execute_reply.started": "2021-12-14T14:01:32.92961Z"
    },
    "id": "gcA1zHvOww8D",
    "outputId": "31e0ff06-df06-4db3-a261-d94385893da1",
    "papermill": {
     "duration": 0.319792,
     "end_time": "2021-11-23T16:50:46.903522",
     "exception": false,
     "start_time": "2021-11-23T16:50:46.58373",
     "status": "completed"
    },
    "tags": []
   },
   "outputs": [],
   "source": [
    "df.select('Route_1','Route_2','Route_3','Route_4','Route_5').show()"
   ]
  },
  {
   "cell_type": "code",
   "execution_count": null,
   "metadata": {
    "execution": {
     "iopub.execute_input": "2021-12-14T14:01:33.100025Z",
     "iopub.status.busy": "2021-12-14T14:01:33.099735Z",
     "iopub.status.idle": "2021-12-14T14:01:33.144018Z",
     "shell.execute_reply": "2021-12-14T14:01:33.142917Z",
     "shell.execute_reply.started": "2021-12-14T14:01:33.099988Z"
    },
    "id": "RfcYtMNeww_U",
    "papermill": {
     "duration": 0.26772,
     "end_time": "2021-11-23T16:50:47.385629",
     "exception": false,
     "start_time": "2021-11-23T16:50:47.117909",
     "status": "completed"
    },
    "tags": []
   },
   "outputs": [],
   "source": [
    "df = df.na.fill(\"None\",subset=['Route_1','Route_2','Route_3','Route_4','Route_5'])"
   ]
  },
  {
   "cell_type": "code",
   "execution_count": null,
   "metadata": {
    "execution": {
     "iopub.execute_input": "2021-12-14T14:01:33.14571Z",
     "iopub.status.busy": "2021-12-14T14:01:33.145432Z",
     "iopub.status.idle": "2021-12-14T14:01:33.328367Z",
     "shell.execute_reply": "2021-12-14T14:01:33.326232Z",
     "shell.execute_reply.started": "2021-12-14T14:01:33.145671Z"
    },
    "id": "TQWiM6V5wxKD",
    "outputId": "a9694db7-f284-45f1-8883-7db34984e922",
    "papermill": {
     "duration": 0.275893,
     "end_time": "2021-11-23T16:50:47.817008",
     "exception": false,
     "start_time": "2021-11-23T16:50:47.541115",
     "status": "completed"
    },
    "tags": []
   },
   "outputs": [],
   "source": [
    "df.select('Route_1','Route_2','Route_3','Route_4','Route_5').show()"
   ]
  },
  {
   "cell_type": "code",
   "execution_count": null,
   "metadata": {
    "execution": {
     "iopub.execute_input": "2021-12-14T14:01:33.33305Z",
     "iopub.status.busy": "2021-12-14T14:01:33.329891Z",
     "iopub.status.idle": "2021-12-14T14:01:33.363356Z",
     "shell.execute_reply": "2021-12-14T14:01:33.362346Z",
     "shell.execute_reply.started": "2021-12-14T14:01:33.333007Z"
    },
    "id": "bTTmS17kwxMV",
    "papermill": {
     "duration": 0.17721,
     "end_time": "2021-11-23T16:50:48.138364",
     "exception": false,
     "start_time": "2021-11-23T16:50:47.961154",
     "status": "completed"
    },
    "tags": []
   },
   "outputs": [],
   "source": [
    "e = df.select('Route_1','Route_2','Route_3','Route_4','Route_5')"
   ]
  },
  {
   "cell_type": "code",
   "execution_count": null,
   "metadata": {
    "execution": {
     "iopub.execute_input": "2021-12-14T14:01:33.369006Z",
     "iopub.status.busy": "2021-12-14T14:01:33.368597Z",
     "iopub.status.idle": "2021-12-14T14:01:33.446881Z",
     "shell.execute_reply": "2021-12-14T14:01:33.446149Z",
     "shell.execute_reply.started": "2021-12-14T14:01:33.368961Z"
    },
    "id": "XIJCy2rGwxOY",
    "papermill": {
     "duration": 0.299668,
     "end_time": "2021-11-23T16:50:48.58231",
     "exception": false,
     "start_time": "2021-11-23T16:50:48.282642",
     "status": "completed"
    },
    "tags": []
   },
   "outputs": [],
   "source": [
    "from pyspark.ml import Pipeline\n",
    "from pyspark.ml.feature import StringIndexer"
   ]
  },
  {
   "cell_type": "code",
   "execution_count": null,
   "metadata": {
    "execution": {
     "iopub.execute_input": "2021-12-14T14:01:33.450175Z",
     "iopub.status.busy": "2021-12-14T14:01:33.449716Z",
     "iopub.status.idle": "2021-12-14T14:01:36.241849Z",
     "shell.execute_reply": "2021-12-14T14:01:36.240935Z",
     "shell.execute_reply.started": "2021-12-14T14:01:33.450134Z"
    },
    "id": "inT3XFq7wxRa",
    "papermill": {
     "duration": 2.499035,
     "end_time": "2021-11-23T16:50:51.226976",
     "exception": false,
     "start_time": "2021-11-23T16:50:48.727941",
     "status": "completed"
    },
    "tags": []
   },
   "outputs": [],
   "source": [
    "for i in e.columns:\n",
    "    indexer = StringIndexer(inputCol=i, outputCol=i+ \"_Label\")\n",
    "    df = indexer.fit(df).transform(df)"
   ]
  },
  {
   "cell_type": "code",
   "execution_count": null,
   "metadata": {
    "execution": {
     "iopub.execute_input": "2021-12-14T14:01:36.24324Z",
     "iopub.status.busy": "2021-12-14T14:01:36.242972Z",
     "iopub.status.idle": "2021-12-14T14:01:36.256783Z",
     "shell.execute_reply": "2021-12-14T14:01:36.255999Z",
     "shell.execute_reply.started": "2021-12-14T14:01:36.243205Z"
    },
    "id": "sv4zkMCIxA_4",
    "outputId": "409598f4-7592-4a18-ec52-24315fa0c43a",
    "papermill": {
     "duration": 0.15242,
     "end_time": "2021-11-23T16:50:51.523812",
     "exception": false,
     "start_time": "2021-11-23T16:50:51.371392",
     "status": "completed"
    },
    "tags": []
   },
   "outputs": [],
   "source": [
    "df.printSchema()"
   ]
  },
  {
   "cell_type": "code",
   "execution_count": null,
   "metadata": {
    "execution": {
     "iopub.execute_input": "2021-12-14T14:01:36.259316Z",
     "iopub.status.busy": "2021-12-14T14:01:36.258356Z",
     "iopub.status.idle": "2021-12-14T14:01:36.808754Z",
     "shell.execute_reply": "2021-12-14T14:01:36.808083Z",
     "shell.execute_reply.started": "2021-12-14T14:01:36.25927Z"
    },
    "id": "nLXq2c-DxBCX",
    "outputId": "de2d46ac-9001-4aca-a7cc-3bea47cea43a",
    "papermill": {
     "duration": 0.409822,
     "end_time": "2021-11-23T16:50:52.076853",
     "exception": false,
     "start_time": "2021-11-23T16:50:51.667031",
     "status": "completed"
    },
    "tags": []
   },
   "outputs": [],
   "source": [
    "df.select('Route_1_Label','Route_2_Label','Route_3_Label','Route_4_Label','Route_5_Label').show()"
   ]
  },
  {
   "cell_type": "code",
   "execution_count": null,
   "metadata": {
    "execution": {
     "iopub.execute_input": "2021-12-14T14:01:36.809984Z",
     "iopub.status.busy": "2021-12-14T14:01:36.809742Z",
     "iopub.status.idle": "2021-12-14T14:01:36.948248Z",
     "shell.execute_reply": "2021-12-14T14:01:36.947436Z",
     "shell.execute_reply.started": "2021-12-14T14:01:36.809955Z"
    },
    "id": "cOPHeaVxxBFF",
    "papermill": {
     "duration": 0.213301,
     "end_time": "2021-11-23T16:50:52.438607",
     "exception": false,
     "start_time": "2021-11-23T16:50:52.225306",
     "status": "completed"
    },
    "tags": []
   },
   "outputs": [],
   "source": [
    "# Drop Route_1, Route_2, Route_3, Route_4, Route_5 columns\n",
    "df = df.drop('Route_1').drop('Route_2').drop('Route_3').drop('Route_4').drop('Route_5')"
   ]
  },
  {
   "cell_type": "code",
   "execution_count": null,
   "metadata": {
    "execution": {
     "iopub.execute_input": "2021-12-14T14:01:36.949487Z",
     "iopub.status.busy": "2021-12-14T14:01:36.949252Z",
     "iopub.status.idle": "2021-12-14T14:01:37.173786Z",
     "shell.execute_reply": "2021-12-14T14:01:37.1729Z",
     "shell.execute_reply.started": "2021-12-14T14:01:36.949456Z"
    },
    "id": "dibcT2ffxBHl",
    "papermill": {
     "duration": 0.227654,
     "end_time": "2021-11-23T16:50:52.836056",
     "exception": false,
     "start_time": "2021-11-23T16:50:52.608402",
     "status": "completed"
    },
    "tags": []
   },
   "outputs": [],
   "source": [
    "# Convert Route_1_Label, Route_2_Label, Route_3_Label, Route_4_Label, Route_4_Label columns from DoubleType to IntegerType\n",
    "df = df.withColumn('Route_1_Label', col('Route_1_Label').cast(IntegerType()))\\\n",
    "            .withColumn('Route_2_Label', col('Route_2_Label').cast(IntegerType()))\\\n",
    "            .withColumn('Route_3_Label', col('Route_3_Label').cast(IntegerType()))\\\n",
    "            .withColumn('Route_4_Label', col('Route_4_Label').cast(IntegerType()))\\\n",
    "            .withColumn('Route_5_Label', col('Route_5_Label').cast(IntegerType()))"
   ]
  },
  {
   "cell_type": "code",
   "execution_count": null,
   "metadata": {
    "execution": {
     "iopub.execute_input": "2021-12-14T14:01:37.188291Z",
     "iopub.status.busy": "2021-12-14T14:01:37.185956Z",
     "iopub.status.idle": "2021-12-14T14:01:37.632076Z",
     "shell.execute_reply": "2021-12-14T14:01:37.63137Z",
     "shell.execute_reply.started": "2021-12-14T14:01:37.188245Z"
    },
    "id": "Dtys8dq_xBKN",
    "outputId": "5915a401-f334-4d83-c07b-da660ca41d35",
    "papermill": {
     "duration": 0.320647,
     "end_time": "2021-11-23T16:50:53.306921",
     "exception": false,
     "start_time": "2021-11-23T16:50:52.986274",
     "status": "completed"
    },
    "tags": []
   },
   "outputs": [],
   "source": [
    "df.select('Route_1_Label','Route_2_Label','Route_3_Label','Route_4_Label','Route_5_Label').show()"
   ]
  },
  {
   "cell_type": "code",
   "execution_count": null,
   "metadata": {
    "execution": {
     "iopub.execute_input": "2021-12-14T14:01:37.633303Z",
     "iopub.status.busy": "2021-12-14T14:01:37.633056Z",
     "iopub.status.idle": "2021-12-14T14:01:37.64108Z",
     "shell.execute_reply": "2021-12-14T14:01:37.64027Z",
     "shell.execute_reply.started": "2021-12-14T14:01:37.633271Z"
    },
    "id": "tvEMwwWxxBNl",
    "outputId": "0e08f6e2-1f32-47e7-8b3a-f91a6e7c2f62",
    "papermill": {
     "duration": 0.156029,
     "end_time": "2021-11-23T16:50:53.608115",
     "exception": false,
     "start_time": "2021-11-23T16:50:53.452086",
     "status": "completed"
    },
    "tags": []
   },
   "outputs": [],
   "source": [
    "df.printSchema()"
   ]
  },
  {
   "cell_type": "markdown",
   "metadata": {
    "id": "iZJT-eX-yqt_",
    "papermill": {
     "duration": 0.145273,
     "end_time": "2021-11-23T16:50:53.897913",
     "exception": false,
     "start_time": "2021-11-23T16:50:53.75264",
     "status": "completed"
    },
    "tags": []
   },
   "source": [
    "#### Handle Total_Stops column"
   ]
  },
  {
   "cell_type": "code",
   "execution_count": null,
   "metadata": {
    "execution": {
     "iopub.execute_input": "2021-12-14T14:01:37.647421Z",
     "iopub.status.busy": "2021-12-14T14:01:37.643666Z",
     "iopub.status.idle": "2021-12-14T14:01:38.015498Z",
     "shell.execute_reply": "2021-12-14T14:01:38.014787Z",
     "shell.execute_reply.started": "2021-12-14T14:01:37.647386Z"
    },
    "id": "JfDtCCASxWv1",
    "outputId": "49b034b9-f802-419b-98fb-2030df9c8bc8",
    "papermill": {
     "duration": 0.446477,
     "end_time": "2021-11-23T16:50:54.496397",
     "exception": false,
     "start_time": "2021-11-23T16:50:54.04992",
     "status": "completed"
    },
    "tags": []
   },
   "outputs": [],
   "source": [
    "df.select(countDistinct('Total_Stops')).show()"
   ]
  },
  {
   "cell_type": "code",
   "execution_count": null,
   "metadata": {
    "execution": {
     "iopub.execute_input": "2021-12-14T14:01:38.016747Z",
     "iopub.status.busy": "2021-12-14T14:01:38.016498Z",
     "iopub.status.idle": "2021-12-14T14:01:38.328741Z",
     "shell.execute_reply": "2021-12-14T14:01:38.327961Z",
     "shell.execute_reply.started": "2021-12-14T14:01:38.016713Z"
    },
    "id": "RC5cpZy6xW3t",
    "outputId": "ba6bb599-913e-4352-96b6-977e381602c5",
    "papermill": {
     "duration": 0.411397,
     "end_time": "2021-11-23T16:50:55.076867",
     "exception": false,
     "start_time": "2021-11-23T16:50:54.66547",
     "status": "completed"
    },
    "tags": []
   },
   "outputs": [],
   "source": [
    "df.select('Total_Stops').distinct().collect()"
   ]
  },
  {
   "cell_type": "code",
   "execution_count": null,
   "metadata": {
    "execution": {
     "iopub.execute_input": "2021-12-14T14:01:38.335436Z",
     "iopub.status.busy": "2021-12-14T14:01:38.333149Z",
     "iopub.status.idle": "2021-12-14T14:01:38.695894Z",
     "shell.execute_reply": "2021-12-14T14:01:38.695148Z",
     "shell.execute_reply.started": "2021-12-14T14:01:38.335393Z"
    },
    "id": "M2xlPqe0xW6p",
    "outputId": "0b994da1-a604-489b-cb26-adb0f2f6eb5e",
    "papermill": {
     "duration": 0.494239,
     "end_time": "2021-11-23T16:50:55.750603",
     "exception": false,
     "start_time": "2021-11-23T16:50:55.256364",
     "status": "completed"
    },
    "tags": []
   },
   "outputs": [],
   "source": [
    "df.groupBy('Total_Stops').count().alias('Count').sort(col('Count').desc()).show()"
   ]
  },
  {
   "cell_type": "code",
   "execution_count": null,
   "metadata": {
    "execution": {
     "iopub.execute_input": "2021-12-14T14:01:38.69715Z",
     "iopub.status.busy": "2021-12-14T14:01:38.696918Z",
     "iopub.status.idle": "2021-12-14T14:01:39.121309Z",
     "shell.execute_reply": "2021-12-14T14:01:39.120172Z",
     "shell.execute_reply.started": "2021-12-14T14:01:38.697118Z"
    },
    "id": "oEzWXQ7jxW9G",
    "outputId": "4bae5810-07ac-478e-93ad-7784aec0cf50",
    "papermill": {
     "duration": 0.563309,
     "end_time": "2021-11-23T16:50:56.460994",
     "exception": false,
     "start_time": "2021-11-23T16:50:55.897685",
     "status": "completed"
    },
    "tags": []
   },
   "outputs": [],
   "source": [
    "plt.figure(figsize=(15,8));\n",
    "sns.catplot(y='Price',x='Total_Stops',data=data.sort_values('Price',ascending=False),kind='boxen');\n",
    "plt.xticks(rotation = 45);"
   ]
  },
  {
   "cell_type": "code",
   "execution_count": null,
   "metadata": {
    "execution": {
     "iopub.execute_input": "2021-12-14T14:01:39.123407Z",
     "iopub.status.busy": "2021-12-14T14:01:39.122907Z",
     "iopub.status.idle": "2021-12-14T14:01:39.213464Z",
     "shell.execute_reply": "2021-12-14T14:01:39.212525Z",
     "shell.execute_reply.started": "2021-12-14T14:01:39.123366Z"
    },
    "id": "QVPS7GcxxW_p",
    "papermill": {
     "duration": 0.221518,
     "end_time": "2021-11-23T16:50:56.82932",
     "exception": false,
     "start_time": "2021-11-23T16:50:56.607802",
     "status": "completed"
    },
    "tags": []
   },
   "outputs": [],
   "source": [
    "df = df.withColumn('Total_Stops',when(col('Total_Stops')=='1 stop',1)\n",
    "                                                    .when(col('Total_Stops')=='2 stops',2)\n",
    "                                                    .when(col('Total_Stops')=='3 stops',3)\n",
    "                                                    .when(col('Total_Stops')=='4 stops',4)\n",
    "                                                    .otherwise(0))"
   ]
  },
  {
   "cell_type": "code",
   "execution_count": null,
   "metadata": {
    "execution": {
     "iopub.execute_input": "2021-12-14T14:01:39.214893Z",
     "iopub.status.busy": "2021-12-14T14:01:39.214612Z",
     "iopub.status.idle": "2021-12-14T14:01:39.360442Z",
     "shell.execute_reply": "2021-12-14T14:01:39.359622Z",
     "shell.execute_reply.started": "2021-12-14T14:01:39.214853Z"
    },
    "id": "AizKQnf5xXCP",
    "outputId": "4b71994b-6bc0-40ab-f1e6-8b44320436ad",
    "papermill": {
     "duration": 0.267543,
     "end_time": "2021-11-23T16:50:57.269282",
     "exception": false,
     "start_time": "2021-11-23T16:50:57.001739",
     "status": "completed"
    },
    "tags": []
   },
   "outputs": [],
   "source": [
    "df.select('Total_Stops').show()"
   ]
  },
  {
   "cell_type": "code",
   "execution_count": null,
   "metadata": {
    "execution": {
     "iopub.execute_input": "2021-12-14T14:01:39.36182Z",
     "iopub.status.busy": "2021-12-14T14:01:39.361524Z",
     "iopub.status.idle": "2021-12-14T14:01:39.369367Z",
     "shell.execute_reply": "2021-12-14T14:01:39.368449Z",
     "shell.execute_reply.started": "2021-12-14T14:01:39.36178Z"
    },
    "id": "ajAGz8CWxXEm",
    "outputId": "d992ad01-93c3-4a49-adc6-22385054c155",
    "papermill": {
     "duration": 0.159116,
     "end_time": "2021-11-23T16:50:57.587112",
     "exception": false,
     "start_time": "2021-11-23T16:50:57.427996",
     "status": "completed"
    },
    "tags": []
   },
   "outputs": [],
   "source": [
    "df.printSchema()"
   ]
  },
  {
   "cell_type": "markdown",
   "metadata": {
    "id": "FFvLkjK2ybe7",
    "papermill": {
     "duration": 0.149774,
     "end_time": "2021-11-23T16:50:57.885856",
     "exception": false,
     "start_time": "2021-11-23T16:50:57.736082",
     "status": "completed"
    },
    "tags": []
   },
   "source": [
    "## Outlier Detection"
   ]
  },
  {
   "cell_type": "code",
   "execution_count": null,
   "metadata": {
    "execution": {
     "iopub.execute_input": "2021-12-14T14:01:39.372063Z",
     "iopub.status.busy": "2021-12-14T14:01:39.37128Z",
     "iopub.status.idle": "2021-12-14T14:01:39.385502Z",
     "shell.execute_reply": "2021-12-14T14:01:39.384462Z",
     "shell.execute_reply.started": "2021-12-14T14:01:39.372022Z"
    },
    "id": "5Wuzu4WTxXKF",
    "papermill": {
     "duration": 0.155388,
     "end_time": "2021-11-23T16:50:58.217401",
     "exception": false,
     "start_time": "2021-11-23T16:50:58.062013",
     "status": "completed"
    },
    "tags": []
   },
   "outputs": [],
   "source": [
    "def plot(df,col):\n",
    "    fig,(ax1,ax2)=plt.subplots(2,1)\n",
    "    sns.distplot(df[col],ax=ax1)\n",
    "    sns.boxplot(df[col],ax=ax2)"
   ]
  },
  {
   "cell_type": "code",
   "execution_count": null,
   "metadata": {
    "execution": {
     "iopub.execute_input": "2021-12-14T14:01:39.388123Z",
     "iopub.status.busy": "2021-12-14T14:01:39.387491Z",
     "iopub.status.idle": "2021-12-14T14:01:41.804088Z",
     "shell.execute_reply": "2021-12-14T14:01:41.803414Z",
     "shell.execute_reply.started": "2021-12-14T14:01:39.388077Z"
    },
    "id": "lrENQVCQxXP5",
    "outputId": "c51ab3a1-5255-4dae-b3f5-e86c2cb088c5",
    "papermill": {
     "duration": 0.779148,
     "end_time": "2021-11-23T16:51:00.284011",
     "exception": false,
     "start_time": "2021-11-23T16:50:59.504863",
     "status": "completed"
    },
    "tags": []
   },
   "outputs": [],
   "source": [
    "dataPlot = df.toPandas()\n",
    "plt.figure(figsize=(30,20));\n",
    "plot(df.toPandas(),'Price');"
   ]
  },
  {
   "cell_type": "code",
   "execution_count": null,
   "metadata": {
    "execution": {
     "iopub.execute_input": "2021-12-14T14:01:41.805635Z",
     "iopub.status.busy": "2021-12-14T14:01:41.805319Z",
     "iopub.status.idle": "2021-12-14T14:01:41.814712Z",
     "shell.execute_reply": "2021-12-14T14:01:41.811223Z",
     "shell.execute_reply.started": "2021-12-14T14:01:41.805595Z"
    },
    "id": "cqoNTelsxqkL",
    "papermill": {
     "duration": 0.158417,
     "end_time": "2021-11-23T16:51:00.593018",
     "exception": false,
     "start_time": "2021-11-23T16:51:00.434601",
     "status": "completed"
    },
    "tags": []
   },
   "outputs": [],
   "source": [
    "dataPlot['Price']=np.where(dataPlot['Price']>=40000,dataPlot['Price'].mean(),dataPlot['Price'])"
   ]
  },
  {
   "cell_type": "code",
   "execution_count": null,
   "metadata": {
    "execution": {
     "iopub.execute_input": "2021-12-14T14:01:41.816274Z",
     "iopub.status.busy": "2021-12-14T14:01:41.815875Z",
     "iopub.status.idle": "2021-12-14T14:01:42.113174Z",
     "shell.execute_reply": "2021-12-14T14:01:42.112288Z",
     "shell.execute_reply.started": "2021-12-14T14:01:41.816239Z"
    }
   },
   "outputs": [],
   "source": [
    "df = df.withColumn('Price', \n",
    "              F.when((df['Price'] >=40000),\n",
    "              F.round(F.lit(df.select(F.mean(F.col('Price')).alias('mean')).collect()[0]['mean'])).cast('Integer')).otherwise(F.col('Price')))"
   ]
  },
  {
   "cell_type": "code",
   "execution_count": null,
   "metadata": {
    "execution": {
     "iopub.execute_input": "2021-12-14T14:01:42.120225Z",
     "iopub.status.busy": "2021-12-14T14:01:42.114359Z",
     "iopub.status.idle": "2021-12-14T14:01:42.797631Z",
     "shell.execute_reply": "2021-12-14T14:01:42.796979Z",
     "shell.execute_reply.started": "2021-12-14T14:01:42.120179Z"
    },
    "id": "jXr2Fvnixqne",
    "outputId": "ad1f160e-ccb1-40a4-eb58-16ca2d08dd2e",
    "papermill": {
     "duration": 0.710683,
     "end_time": "2021-11-23T16:51:01.452682",
     "exception": false,
     "start_time": "2021-11-23T16:51:00.741999",
     "status": "completed"
    },
    "tags": []
   },
   "outputs": [],
   "source": [
    "plt.figure(figsize=(30,20));\n",
    "plot(dataPlot,'Price') ; "
   ]
  },
  {
   "cell_type": "code",
   "execution_count": null,
   "metadata": {
    "execution": {
     "iopub.execute_input": "2021-12-14T14:01:42.803508Z",
     "iopub.status.busy": "2021-12-14T14:01:42.801361Z",
     "iopub.status.idle": "2021-12-14T14:01:42.866734Z",
     "shell.execute_reply": "2021-12-14T14:01:42.865861Z",
     "shell.execute_reply.started": "2021-12-14T14:01:42.803467Z"
    },
    "id": "rfs7t4FNxqqR",
    "papermill": {
     "duration": 0.19129,
     "end_time": "2021-11-23T16:51:01.796799",
     "exception": false,
     "start_time": "2021-11-23T16:51:01.605509",
     "status": "completed"
    },
    "tags": []
   },
   "outputs": [],
   "source": [
    "# Split data to Data Train and Data Test \n",
    "(trainDF, testDF) = df.randomSplit([.8, .2], seed=1)"
   ]
  },
  {
   "cell_type": "code",
   "execution_count": null,
   "metadata": {
    "execution": {
     "iopub.execute_input": "2021-12-14T14:01:42.879971Z",
     "iopub.status.busy": "2021-12-14T14:01:42.875917Z",
     "iopub.status.idle": "2021-12-14T14:01:44.555511Z",
     "shell.execute_reply": "2021-12-14T14:01:44.554432Z",
     "shell.execute_reply.started": "2021-12-14T14:01:42.879929Z"
    },
    "id": "wmxbmZ_sxqtF",
    "outputId": "ebfd0855-bab6-474e-a3d8-6eda29a7e0be",
    "papermill": {
     "duration": 1.173084,
     "end_time": "2021-11-23T16:51:03.121654",
     "exception": false,
     "start_time": "2021-11-23T16:51:01.94857",
     "status": "completed"
    },
    "tags": []
   },
   "outputs": [],
   "source": [
    "from pyspark.ml.feature import VectorAssembler\n",
    "\n",
    "assembler = VectorAssembler(inputCols=['Total_Stops', 'Route_1_Label', 'Route_2_Label', 'Route_3_Label', 'Route_4_Label', \n",
    "                                       'Route_5_Label','Air India', 'GoAir', 'IndiGo', 'Jet Airways', 'Jet Airways Business',\n",
    "                                       'Multiple carriers', 'Multiple carriers Premium economy', 'SpiceJet',\n",
    "                                       'Trujet', 'Vistara', 'Vistara Premium economy','Kolkata_Des','Delhi_Des',\n",
    "                                       'Cochin_Des','New Delhi_Des','Hyderabad_Des','Chennai_Sour','Mumbai_Sour','Kolkata_Sour',\n",
    "                                       'Delhi_Sour', 'Journey_Day', 'Journey_Month', 'Dep_Hour',\n",
    "                                       'Dep_Minute', 'Arrival_Hour', 'Arrival_Minute',\n",
    "                                       'Duration_Hour', 'Duration_Minute'], outputCol='features') \n",
    "assembler_train = assembler.setHandleInvalid(\"skip\").transform(trainDF)\n",
    "final_train = assembler_train.select('features','Price')\n",
    "final_train.show(3)"
   ]
  },
  {
   "cell_type": "markdown",
   "metadata": {
    "id": "Wcbsj9zg9E4I",
    "papermill": {
     "duration": 0.154611,
     "end_time": "2021-11-23T16:51:03.431762",
     "exception": false,
     "start_time": "2021-11-23T16:51:03.277151",
     "status": "completed"
    },
    "tags": []
   },
   "source": [
    "## Build model and pipeline"
   ]
  },
  {
   "cell_type": "code",
   "execution_count": null,
   "metadata": {
    "execution": {
     "iopub.execute_input": "2021-12-14T14:01:44.557282Z",
     "iopub.status.busy": "2021-12-14T14:01:44.556991Z",
     "iopub.status.idle": "2021-12-14T14:01:44.563256Z",
     "shell.execute_reply": "2021-12-14T14:01:44.562319Z",
     "shell.execute_reply.started": "2021-12-14T14:01:44.55724Z"
    },
    "id": "PPmN1-XFx7sE",
    "papermill": {
     "duration": 0.165624,
     "end_time": "2021-11-23T16:51:03.749909",
     "exception": false,
     "start_time": "2021-11-23T16:51:03.584285",
     "status": "completed"
    },
    "tags": []
   },
   "outputs": [],
   "source": [
    "from pyspark.ml import Pipeline\n",
    "from pyspark.ml.linalg import Vectors\n",
    "from pyspark.ml.feature import StringIndexer, VectorIndexer, IndexToString"
   ]
  },
  {
   "cell_type": "code",
   "execution_count": null,
   "metadata": {
    "execution": {
     "iopub.execute_input": "2021-12-14T14:01:44.565954Z",
     "iopub.status.busy": "2021-12-14T14:01:44.565184Z",
     "iopub.status.idle": "2021-12-14T14:01:44.608302Z",
     "shell.execute_reply": "2021-12-14T14:01:44.60746Z",
     "shell.execute_reply.started": "2021-12-14T14:01:44.565911Z"
    },
    "id": "QYWGhdYwx7us",
    "papermill": {
     "duration": 0.285279,
     "end_time": "2021-11-23T16:51:04.195123",
     "exception": false,
     "start_time": "2021-11-23T16:51:03.909844",
     "status": "completed"
    },
    "tags": []
   },
   "outputs": [],
   "source": [
    "from pyspark.ml.regression import RandomForestRegressor\n",
    "rfr = RandomForestRegressor(featuresCol = 'features', labelCol='Price', maxDepth=5, numTrees=100)"
   ]
  },
  {
   "cell_type": "code",
   "execution_count": null,
   "metadata": {
    "execution": {
     "iopub.execute_input": "2021-12-14T14:01:44.609591Z",
     "iopub.status.busy": "2021-12-14T14:01:44.609352Z",
     "iopub.status.idle": "2021-12-14T14:01:44.62795Z",
     "shell.execute_reply": "2021-12-14T14:01:44.627066Z",
     "shell.execute_reply.started": "2021-12-14T14:01:44.609559Z"
    },
    "id": "3r_sgni5x7xo",
    "papermill": {
     "duration": 0.173266,
     "end_time": "2021-11-23T16:51:04.522635",
     "exception": false,
     "start_time": "2021-11-23T16:51:04.349369",
     "status": "completed"
    },
    "tags": []
   },
   "outputs": [],
   "source": [
    "from pyspark.ml.regression import DecisionTreeRegressor\n",
    "dt = DecisionTreeRegressor(featuresCol = 'features', labelCol='Price')"
   ]
  },
  {
   "cell_type": "code",
   "execution_count": null,
   "metadata": {
    "execution": {
     "iopub.execute_input": "2021-12-14T14:01:44.629914Z",
     "iopub.status.busy": "2021-12-14T14:01:44.629105Z",
     "iopub.status.idle": "2021-12-14T14:01:44.652661Z",
     "shell.execute_reply": "2021-12-14T14:01:44.651613Z",
     "shell.execute_reply.started": "2021-12-14T14:01:44.629872Z"
    },
    "id": "h8H2XQAEx705",
    "papermill": {
     "duration": 0.183161,
     "end_time": "2021-11-23T16:51:04.860083",
     "exception": false,
     "start_time": "2021-11-23T16:51:04.676922",
     "status": "completed"
    },
    "tags": []
   },
   "outputs": [],
   "source": [
    "from pyspark.ml.regression import GBTRegressor\n",
    "gbt = GBTRegressor(featuresCol = 'features', labelCol='Price')"
   ]
  },
  {
   "cell_type": "code",
   "execution_count": null,
   "metadata": {
    "execution": {
     "iopub.execute_input": "2021-12-14T14:01:44.658994Z",
     "iopub.status.busy": "2021-12-14T14:01:44.654534Z",
     "iopub.status.idle": "2021-12-14T14:01:44.704225Z",
     "shell.execute_reply": "2021-12-14T14:01:44.701514Z",
     "shell.execute_reply.started": "2021-12-14T14:01:44.658952Z"
    },
    "id": "NZTG1z0RyB_X",
    "papermill": {
     "duration": 0.20652,
     "end_time": "2021-11-23T16:51:05.229474",
     "exception": false,
     "start_time": "2021-11-23T16:51:05.022954",
     "status": "completed"
    },
    "tags": []
   },
   "outputs": [],
   "source": [
    "from pyspark.ml.regression import LinearRegression\n",
    "lr = LinearRegression(featuresCol = 'features', labelCol='Price')"
   ]
  },
  {
   "cell_type": "code",
   "execution_count": null,
   "metadata": {
    "execution": {
     "iopub.execute_input": "2021-12-14T14:01:44.705544Z",
     "iopub.status.busy": "2021-12-14T14:01:44.705296Z",
     "iopub.status.idle": "2021-12-14T14:01:44.711036Z",
     "shell.execute_reply": "2021-12-14T14:01:44.710142Z",
     "shell.execute_reply.started": "2021-12-14T14:01:44.705509Z"
    },
    "id": "VN9L0qxiyCEV",
    "papermill": {
     "duration": 0.159941,
     "end_time": "2021-11-23T16:51:05.54384",
     "exception": false,
     "start_time": "2021-11-23T16:51:05.383899",
     "status": "completed"
    },
    "tags": []
   },
   "outputs": [],
   "source": [
    "from pyspark.ml.evaluation import RegressionEvaluator\n",
    "stages_ = [dt, rfr, gbt, lr]"
   ]
  },
  {
   "cell_type": "code",
   "execution_count": null,
   "metadata": {
    "execution": {
     "iopub.execute_input": "2021-12-14T14:01:44.713508Z",
     "iopub.status.busy": "2021-12-14T14:01:44.71293Z",
     "iopub.status.idle": "2021-12-14T14:02:26.412236Z",
     "shell.execute_reply": "2021-12-14T14:02:26.411364Z",
     "shell.execute_reply.started": "2021-12-14T14:01:44.713469Z"
    },
    "id": "g_qx1aVsyCHE",
    "outputId": "327803bc-1a21-4d67-cf9c-5444bada975f",
    "papermill": {
     "duration": 28.714418,
     "end_time": "2021-11-23T16:51:34.410766",
     "exception": false,
     "start_time": "2021-11-23T16:51:05.696348",
     "status": "completed"
    },
    "tags": []
   },
   "outputs": [],
   "source": [
    "for stage in stages_:\n",
    "    \n",
    "    #build pipeline for each method\n",
    "    pipeline = Pipeline(stages=[assembler, stage])\n",
    "\n",
    "    # fit model\n",
    "    #stage.setMaxBins(40)\n",
    "\n",
    "    model = pipeline.fit(trainDF)\n",
    "    \n",
    "    # predict and evaluate model\n",
    "\n",
    "    predictions = model.transform(testDF)\n",
    "\n",
    "    predictions.select(\"prediction\",\"Price\", \"features\").show(5)\n",
    "\n",
    "    evaluator = RegressionEvaluator(labelCol=\"Price\", predictionCol=\"prediction\", metricName=\"rmse\")\n",
    "\n",
    "    # RMSE\n",
    "    rmse = evaluator.evaluate(predictions)\n",
    "    print(\"Root Mean Squared Error (RMSE) on test data = %g\" % rmse)\n",
    "\n",
    "    # R squared\n",
    "    r2 = evaluator.evaluate(predictions, {evaluator.metricName: \"r2\"})\n",
    "    print(\"R Squared (R^2) on test data = %g\" % r2)"
   ]
  },
  {
   "cell_type": "markdown",
   "metadata": {
    "id": "r6AyvBiF-LsT",
    "papermill": {
     "duration": 0.16042,
     "end_time": "2021-11-23T16:51:34.729395",
     "exception": false,
     "start_time": "2021-11-23T16:51:34.568975",
     "status": "completed"
    },
    "tags": []
   },
   "source": [
    "## Hyperparameter tuning"
   ]
  },
  {
   "cell_type": "code",
   "execution_count": null,
   "metadata": {
    "execution": {
     "iopub.execute_input": "2021-12-14T14:02:26.413652Z",
     "iopub.status.busy": "2021-12-14T14:02:26.413402Z",
     "iopub.status.idle": "2021-12-14T14:02:26.422646Z",
     "shell.execute_reply": "2021-12-14T14:02:26.421661Z",
     "shell.execute_reply.started": "2021-12-14T14:02:26.413618Z"
    },
    "id": "7RdohJV5qWaJ",
    "papermill": {
     "duration": 0.1693,
     "end_time": "2021-11-23T16:51:35.055997",
     "exception": false,
     "start_time": "2021-11-23T16:51:34.886697",
     "status": "completed"
    },
    "tags": []
   },
   "outputs": [],
   "source": [
    "maxDepth = []\n",
    "for i in range(1,10):\n",
    "  maxDepth.append(i)"
   ]
  },
  {
   "cell_type": "markdown",
   "metadata": {},
   "source": [
    "### Decision tree"
   ]
  },
  {
   "cell_type": "code",
   "execution_count": null,
   "metadata": {
    "execution": {
     "iopub.execute_input": "2021-12-14T14:02:26.427116Z",
     "iopub.status.busy": "2021-12-14T14:02:26.425751Z",
     "iopub.status.idle": "2021-12-14T14:03:11.49029Z",
     "shell.execute_reply": "2021-12-14T14:03:11.489541Z",
     "shell.execute_reply.started": "2021-12-14T14:02:26.427072Z"
    }
   },
   "outputs": [],
   "source": [
    "from pyspark.ml.tuning import CrossValidator\n",
    "from pyspark.ml.tuning import ParamGridBuilder\n",
    "\n",
    "paramGrid_dt = (ParamGridBuilder().addGrid(dt.maxDepth, maxDepth).build())\n",
    "# evaluate model by R2\n",
    "evaluator = RegressionEvaluator(labelCol=\"Price\", predictionCol=\"prediction\", metricName='rmse')\n",
    "\n",
    "pipeline = Pipeline(stages=[assembler, dt])\n",
    "\n",
    "cv = CrossValidator(estimator=pipeline,evaluator = evaluator,\n",
    "                    estimatorParamMaps = paramGrid_dt,\n",
    "                    numFolds=3,seed=42)\n",
    "  \n",
    "# fit on TrainDF\n",
    "dt.setMaxBins(40)\n",
    "\n",
    "Model = cv.fit(trainDF)\n",
    "\n",
    "print(pd.DataFrame(list(zip(Model.getEstimatorParamMaps(), Model.avgMetrics)) ,\n",
    "                     columns=['Regression','RMSE']).sort_values(by=\"RMSE\"))"
   ]
  },
  {
   "cell_type": "markdown",
   "metadata": {},
   "source": [
    "### Random forest "
   ]
  },
  {
   "cell_type": "code",
   "execution_count": null,
   "metadata": {
    "execution": {
     "iopub.execute_input": "2021-12-14T14:03:11.49687Z",
     "iopub.status.busy": "2021-12-14T14:03:11.494678Z",
     "iopub.status.idle": "2021-12-14T14:05:20.867286Z",
     "shell.execute_reply": "2021-12-14T14:05:20.866421Z",
     "shell.execute_reply.started": "2021-12-14T14:03:11.496809Z"
    }
   },
   "outputs": [],
   "source": [
    "from pyspark.ml.tuning import CrossValidator\n",
    "from pyspark.ml.tuning import ParamGridBuilder\n",
    "\n",
    "paramGrid_rfr = ParamGridBuilder().addGrid(rfr.numTrees, [10,100]) \\\n",
    "    .addGrid(rfr.maxDepth, maxDepth) \\\n",
    "    .build()\n",
    "# evaluate model by R2\n",
    "evaluator = RegressionEvaluator(labelCol=\"Price\", predictionCol=\"prediction\", metricName='rmse')\n",
    "\n",
    "pipeline = Pipeline(stages=[assembler, rfr])\n",
    "\n",
    "cv = CrossValidator(estimator=pipeline,evaluator = evaluator,\n",
    "                    estimatorParamMaps = paramGrid_rfr,\n",
    "                    numFolds=3,seed=42)\n",
    "  \n",
    "# fit on TrainDF\n",
    "rfr.setMaxBins(40)\n",
    "\n",
    "Model = cv.fit(trainDF)\n",
    "\n",
    "print(pd.DataFrame(list(zip(Model.getEstimatorParamMaps(), Model.avgMetrics)) ,\n",
    "                     columns=['Regression','RMSE']).sort_values(by=\"RMSE\"))"
   ]
  },
  {
   "cell_type": "markdown",
   "metadata": {},
   "source": [
    "### Linear regression"
   ]
  },
  {
   "cell_type": "code",
   "execution_count": null,
   "metadata": {
    "execution": {
     "iopub.execute_input": "2021-12-14T14:05:20.873734Z",
     "iopub.status.busy": "2021-12-14T14:05:20.87168Z",
     "iopub.status.idle": "2021-12-14T14:05:35.315623Z",
     "shell.execute_reply": "2021-12-14T14:05:35.314779Z",
     "shell.execute_reply.started": "2021-12-14T14:05:20.873691Z"
    }
   },
   "outputs": [],
   "source": [
    "from pyspark.ml.tuning import CrossValidator\n",
    "from pyspark.ml.tuning import ParamGridBuilder\n",
    "\n",
    "paramGrid_lr = ParamGridBuilder().addGrid(lr.regParam, [0.1, 0.01]).addGrid(lr.elasticNetParam, [0, 1]).build()\n",
    "# evaluate model by R2\n",
    "evaluator = RegressionEvaluator(labelCol=\"Price\", predictionCol=\"prediction\", metricName='rmse')\n",
    "\n",
    "pipeline = Pipeline(stages=[assembler, lr])\n",
    "\n",
    "cv = CrossValidator(estimator=pipeline,evaluator = evaluator,\n",
    "                    estimatorParamMaps = paramGrid_lr,\n",
    "                    numFolds=3,seed=42)\n",
    "  \n",
    "# fit on TrainDF\n",
    "\n",
    "Model = cv.fit(trainDF)\n",
    "\n",
    "print(pd.DataFrame(list(zip(Model.getEstimatorParamMaps(), Model.avgMetrics)) ,\n",
    "                     columns=['Regression','RMSE']).sort_values(by=\"RMSE\"))"
   ]
  },
  {
   "cell_type": "markdown",
   "metadata": {},
   "source": [
    "### Gradient booted tree"
   ]
  },
  {
   "cell_type": "code",
   "execution_count": null,
   "metadata": {
    "execution": {
     "iopub.execute_input": "2021-12-14T14:05:35.317993Z",
     "iopub.status.busy": "2021-12-14T14:05:35.317136Z",
     "iopub.status.idle": "2021-12-14T14:32:27.807341Z",
     "shell.execute_reply": "2021-12-14T14:32:27.806604Z",
     "shell.execute_reply.started": "2021-12-14T14:05:35.317952Z"
    },
    "id": "pSUZhW_QyPan",
    "outputId": "61accaf1-52d1-4d32-d1a2-ae5203fba222",
    "papermill": {
     "duration": 1149.867944,
     "end_time": "2021-11-23T17:10:45.082906",
     "exception": false,
     "start_time": "2021-11-23T16:51:35.214962",
     "status": "completed"
    },
    "tags": []
   },
   "outputs": [],
   "source": [
    "from pyspark.ml.tuning import CrossValidator\n",
    "from pyspark.ml.tuning import ParamGridBuilder\n",
    "\n",
    "paramGrid_gbt = (ParamGridBuilder().addGrid(gbt.maxDepth,maxDepth).addGrid(gbt.maxIter, [10, 100]).build())\n",
    "    \n",
    "# evaluate model by R2\n",
    "evaluator_gbt = RegressionEvaluator(labelCol=\"Price\", predictionCol=\"prediction\", metricName='rmse')\n",
    "\n",
    "pipeline = Pipeline(stages=[assembler, gbt])\n",
    "\n",
    "cv = CrossValidator(estimator=pipeline,evaluator = evaluator_gbt,\n",
    "                    estimatorParamMaps = paramGrid_gbt,\n",
    "                    numFolds=3,\n",
    "                    parallelism=4, seed=42)\n",
    "  \n",
    "# fit on TrainDF\n",
    "gbt.setMaxBins(40)\n",
    "\n",
    "Model = cv.fit(trainDF)\n",
    "\n",
    "print(pd.DataFrame(list(zip(Model.getEstimatorParamMaps(), Model.avgMetrics)) ,\n",
    "                     columns=['Regression','RMSE']).sort_values(by=\"RMSE\"))"
   ]
  },
  {
   "cell_type": "code",
   "execution_count": null,
   "metadata": {
    "execution": {
     "iopub.execute_input": "2021-12-14T14:32:27.809249Z",
     "iopub.status.busy": "2021-12-14T14:32:27.808844Z",
     "iopub.status.idle": "2021-12-14T14:32:27.813628Z",
     "shell.execute_reply": "2021-12-14T14:32:27.812889Z",
     "shell.execute_reply.started": "2021-12-14T14:32:27.809212Z"
    },
    "id": "uKVogwKJ5b28",
    "papermill": {
     "duration": 1.037776,
     "end_time": "2021-11-23T17:10:47.182636",
     "exception": false,
     "start_time": "2021-11-23T17:10:46.14486",
     "status": "completed"
    },
    "tags": []
   },
   "outputs": [],
   "source": [
    "bestPipeline = Model.bestModel \n",
    "bestModel = bestPipeline.stages[1]"
   ]
  },
  {
   "cell_type": "code",
   "execution_count": null,
   "metadata": {
    "execution": {
     "iopub.execute_input": "2021-12-14T14:32:27.815761Z",
     "iopub.status.busy": "2021-12-14T14:32:27.815238Z",
     "iopub.status.idle": "2021-12-14T14:32:27.82593Z",
     "shell.execute_reply": "2021-12-14T14:32:27.825029Z",
     "shell.execute_reply.started": "2021-12-14T14:32:27.815719Z"
    },
    "id": "PZuT4Egt5lXn",
    "outputId": "0ea3fc25-b07a-4931-ad2e-c3edcd666baa",
    "papermill": {
     "duration": 1.03947,
     "end_time": "2021-11-23T17:10:49.244294",
     "exception": false,
     "start_time": "2021-11-23T17:10:48.204824",
     "status": "completed"
    },
    "tags": []
   },
   "outputs": [],
   "source": [
    "print('numTrees - ', bestModel.getNumTrees)\n",
    "print('maxDepth - ', bestModel.getOrDefault('maxDepth'))"
   ]
  },
  {
   "cell_type": "code",
   "execution_count": null,
   "metadata": {
    "execution": {
     "iopub.execute_input": "2021-12-14T14:32:27.828963Z",
     "iopub.status.busy": "2021-12-14T14:32:27.828154Z",
     "iopub.status.idle": "2021-12-14T14:32:31.774885Z",
     "shell.execute_reply": "2021-12-14T14:32:31.77417Z",
     "shell.execute_reply.started": "2021-12-14T14:32:27.828925Z"
    },
    "id": "RUvGaCbCYK8m",
    "outputId": "297760e5-aa7a-432c-8e16-528be60f5772",
    "papermill": {
     "duration": 3.634197,
     "end_time": "2021-11-23T17:10:53.908935",
     "exception": false,
     "start_time": "2021-11-23T17:10:50.274738",
     "status": "completed"
    },
    "tags": []
   },
   "outputs": [],
   "source": [
    "rmse = Model.getEvaluator().evaluate(Model.transform(testDF))\n",
    "Pred = Model.transform(df)\n",
    "Result = Pred.toPandas()\n",
    "plt.plot(Result.Price, Result.prediction, 'go')\n",
    "plt.xlabel('Price')\n",
    "plt.ylabel('Prediction')\n",
    "plt.suptitle(\"Model Performance RMSE: %f\" % rmse)\n",
    "plt.show()"
   ]
  },
  {
   "cell_type": "code",
   "execution_count": null,
   "metadata": {
    "execution": {
     "iopub.execute_input": "2021-12-14T14:32:31.776611Z",
     "iopub.status.busy": "2021-12-14T14:32:31.776213Z",
     "iopub.status.idle": "2021-12-14T14:32:32.3355Z",
     "shell.execute_reply": "2021-12-14T14:32:32.334697Z",
     "shell.execute_reply.started": "2021-12-14T14:32:31.776573Z"
    },
    "id": "_v1xFniHyPmH",
    "outputId": "136c75e4-fcf4-49c9-b0c3-04e4812d99ed",
    "papermill": {
     "duration": 1.713094,
     "end_time": "2021-11-23T17:10:56.669227",
     "exception": false,
     "start_time": "2021-11-23T17:10:54.956133",
     "status": "completed"
    },
    "tags": []
   },
   "outputs": [],
   "source": [
    "importances = bestModel.featureImportances\n",
    "x_values = list(range(len(importances)))\n",
    "plt.figure(figsize=(20,10));\n",
    "plt.bar(x_values, importances, orientation = 'vertical')\n",
    "feature_list = ['Total_Stops', 'Route_1_Label', 'Route_2_Label', 'Route_3_Label', 'Route_4_Label', \n",
    "                                       'Route_5_Label','Air India', 'GoAir', 'IndiGo', 'Jet Airways', 'Jet Airways Business',\n",
    "                                       'Multiple carriers', 'Multiple carriers Premium economy', 'SpiceJet',\n",
    "                                       'Trujet', 'Vistara', 'Vistara Premium economy','Kolkata_Des','Delhi_Des',\n",
    "                                       'Cochin_Des','New Delhi_Des','Hyderabad_Des','Chennai_Sour','Mumbai_Sour','Kolkata_Sour',\n",
    "                                       'Delhi_Sour', 'Journey_Day', 'Journey_Month', 'Dep_Hour',\n",
    "                                       'Dep_Minute', 'Arrival_Hour', 'Arrival_Minute',\n",
    "                                       'Duration_Hour', 'Duration_Minute']\n",
    "plt.xticks(x_values, feature_list, rotation=90)\n",
    "plt.ylabel('Importance')\n",
    "plt.xlabel('Feature')\n",
    "plt.title('Feature Importances');"
   ]
  },
  {
   "cell_type": "code",
   "execution_count": null,
   "metadata": {
    "execution": {
     "iopub.execute_input": "2021-12-14T14:32:32.33779Z",
     "iopub.status.busy": "2021-12-14T14:32:32.336993Z",
     "iopub.status.idle": "2021-12-14T14:32:32.349705Z",
     "shell.execute_reply": "2021-12-14T14:32:32.348885Z",
     "shell.execute_reply.started": "2021-12-14T14:32:32.337744Z"
    },
    "id": "S3DseJ9alei6",
    "papermill": {
     "duration": 1.052577,
     "end_time": "2021-11-23T17:10:58.842579",
     "exception": false,
     "start_time": "2021-11-23T17:10:57.790002",
     "status": "completed"
    },
    "tags": []
   },
   "outputs": [],
   "source": [
    "featuresDF = pd.DataFrame(list(zip(assembler.getInputCols(), bestModel.featureImportances)), \n",
    "                          columns=[\"feature\", \"importance\"])"
   ]
  },
  {
   "cell_type": "code",
   "execution_count": null,
   "metadata": {
    "execution": {
     "iopub.execute_input": "2021-12-14T14:32:32.351809Z",
     "iopub.status.busy": "2021-12-14T14:32:32.351517Z",
     "iopub.status.idle": "2021-12-14T14:32:32.366698Z",
     "shell.execute_reply": "2021-12-14T14:32:32.3656Z",
     "shell.execute_reply.started": "2021-12-14T14:32:32.351769Z"
    },
    "id": "GkEg-S0oloiO",
    "outputId": "d57ef67e-96cc-4595-f9f2-bec470aee172",
    "papermill": {
     "duration": 1.043934,
     "end_time": "2021-11-23T17:11:00.912861",
     "exception": false,
     "start_time": "2021-11-23T17:10:59.868927",
     "status": "completed"
    },
    "tags": []
   },
   "outputs": [],
   "source": [
    "featuresDF.sort_values([\"importance\"], ascending=False)"
   ]
  }
 ],
 "metadata": {
  "kernelspec": {
   "display_name": "Python 3",
   "language": "python",
   "name": "python3"
  },
  "language_info": {
   "codemirror_mode": {
    "name": "ipython",
    "version": 3
   },
   "file_extension": ".py",
   "mimetype": "text/x-python",
   "name": "python",
   "nbconvert_exporter": "python",
   "pygments_lexer": "ipython3",
   "version": "3.8.5"
  }
 },
 "nbformat": 4,
 "nbformat_minor": 4
}
